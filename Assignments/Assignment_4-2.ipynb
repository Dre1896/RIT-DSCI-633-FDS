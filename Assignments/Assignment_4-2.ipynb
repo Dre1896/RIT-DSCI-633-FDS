{
  "nbformat": 4,
  "nbformat_minor": 0,
  "metadata": {
    "colab": {
      "name": "Assignment 4.ipynb",
      "provenance": []
    },
    "kernelspec": {
      "name": "python3",
      "display_name": "Python 3"
    },
    "language_info": {
      "name": "python"
    }
  },
  "cells": [
    {
      "cell_type": "code",
      "metadata": {
        "id": "nNbHx-r3F68y"
      },
      "source": [
        "#importing the required libraries\n",
        "import numpy as np\n",
        "import pandas as pd \n",
        "import seaborn as sns \n",
        "import matplotlib.pyplot as plt\n",
        "import matplotlib\n",
        "from sklearn.datasets import load_iris\n",
        "from sklearn.model_selection import train_test_split\n",
        "from sklearn import metrics\n",
        "from sklearn.metrics import accuracy_score\n",
        "from sklearn.neighbors import KNeighborsClassifier\n",
        "from sklearn.model_selection import GridSearchCV\n",
        "from sklearn.model_selection import RandomizedSearchCV\n",
        "from sklearn.model_selection import GridSearchCV\n",
        "from sklearn.svm import SVC\n",
        "from sklearn.metrics import r2_score,mean_squared_error\n",
        "\n",
        "\n"
      ],
      "execution_count": 243,
      "outputs": []
    },
    {
      "cell_type": "code",
      "metadata": {
        "colab": {
          "base_uri": "https://localhost:8080/",
          "height": 204
        },
        "id": "Gxa-1fNXHSzj",
        "outputId": "97baed47-1804-4d77-e156-7478c8385066"
      },
      "source": [
        "#downloading iris dataset from sklearn\n",
        "iris = load_iris()\n",
        "#creating a dataframe of the dataset\n",
        "iris_df = pd.DataFrame(iris.data, columns= iris.feature_names)\n",
        "#adding the target data as new column naming it species\n",
        "iris_df['species'] = pd.Categorical.from_codes(iris.target, iris.target_names)\n",
        "#printing the first five rows of the data\n",
        "iris_df.head()"
      ],
      "execution_count": 287,
      "outputs": [
        {
          "output_type": "execute_result",
          "data": {
            "text/html": [
              "<div>\n",
              "<style scoped>\n",
              "    .dataframe tbody tr th:only-of-type {\n",
              "        vertical-align: middle;\n",
              "    }\n",
              "\n",
              "    .dataframe tbody tr th {\n",
              "        vertical-align: top;\n",
              "    }\n",
              "\n",
              "    .dataframe thead th {\n",
              "        text-align: right;\n",
              "    }\n",
              "</style>\n",
              "<table border=\"1\" class=\"dataframe\">\n",
              "  <thead>\n",
              "    <tr style=\"text-align: right;\">\n",
              "      <th></th>\n",
              "      <th>sepal length (cm)</th>\n",
              "      <th>sepal width (cm)</th>\n",
              "      <th>petal length (cm)</th>\n",
              "      <th>petal width (cm)</th>\n",
              "      <th>species</th>\n",
              "    </tr>\n",
              "  </thead>\n",
              "  <tbody>\n",
              "    <tr>\n",
              "      <th>0</th>\n",
              "      <td>5.1</td>\n",
              "      <td>3.5</td>\n",
              "      <td>1.4</td>\n",
              "      <td>0.2</td>\n",
              "      <td>setosa</td>\n",
              "    </tr>\n",
              "    <tr>\n",
              "      <th>1</th>\n",
              "      <td>4.9</td>\n",
              "      <td>3.0</td>\n",
              "      <td>1.4</td>\n",
              "      <td>0.2</td>\n",
              "      <td>setosa</td>\n",
              "    </tr>\n",
              "    <tr>\n",
              "      <th>2</th>\n",
              "      <td>4.7</td>\n",
              "      <td>3.2</td>\n",
              "      <td>1.3</td>\n",
              "      <td>0.2</td>\n",
              "      <td>setosa</td>\n",
              "    </tr>\n",
              "    <tr>\n",
              "      <th>3</th>\n",
              "      <td>4.6</td>\n",
              "      <td>3.1</td>\n",
              "      <td>1.5</td>\n",
              "      <td>0.2</td>\n",
              "      <td>setosa</td>\n",
              "    </tr>\n",
              "    <tr>\n",
              "      <th>4</th>\n",
              "      <td>5.0</td>\n",
              "      <td>3.6</td>\n",
              "      <td>1.4</td>\n",
              "      <td>0.2</td>\n",
              "      <td>setosa</td>\n",
              "    </tr>\n",
              "  </tbody>\n",
              "</table>\n",
              "</div>"
            ],
            "text/plain": [
              "   sepal length (cm)  sepal width (cm)  ...  petal width (cm)  species\n",
              "0                5.1               3.5  ...               0.2   setosa\n",
              "1                4.9               3.0  ...               0.2   setosa\n",
              "2                4.7               3.2  ...               0.2   setosa\n",
              "3                4.6               3.1  ...               0.2   setosa\n",
              "4                5.0               3.6  ...               0.2   setosa\n",
              "\n",
              "[5 rows x 5 columns]"
            ]
          },
          "metadata": {},
          "execution_count": 287
        }
      ]
    },
    {
      "cell_type": "code",
      "metadata": {
        "colab": {
          "base_uri": "https://localhost:8080/"
        },
        "id": "IAWsOhKCiNT9",
        "outputId": "bdc6d318-1f10-4a30-83d9-5e0f973daaeb"
      },
      "source": [
        "#printing the names of columns of the dataset\n",
        "iris_df.columns"
      ],
      "execution_count": 289,
      "outputs": [
        {
          "output_type": "execute_result",
          "data": {
            "text/plain": [
              "Index(['sepal length (cm)', 'sepal width (cm)', 'petal length (cm)',\n",
              "       'petal width (cm)', 'species'],\n",
              "      dtype='object')"
            ]
          },
          "metadata": {},
          "execution_count": 289
        }
      ]
    },
    {
      "cell_type": "code",
      "metadata": {
        "colab": {
          "base_uri": "https://localhost:8080/"
        },
        "id": "3S3Z77HriTT7",
        "outputId": "ce3a9771-60ec-4e04-acb7-d003fa1f4744"
      },
      "source": [
        "#printing the shape of the dataset\n",
        "iris_df.shape"
      ],
      "execution_count": 246,
      "outputs": [
        {
          "output_type": "execute_result",
          "data": {
            "text/plain": [
              "(150, 5)"
            ]
          },
          "metadata": {},
          "execution_count": 246
        }
      ]
    },
    {
      "cell_type": "code",
      "metadata": {
        "colab": {
          "base_uri": "https://localhost:8080/"
        },
        "id": "ydCv8qMciaTy",
        "outputId": "2c2f3add-9fe4-41e3-e086-829cbeab6a4c"
      },
      "source": [
        "#checking for null values in each column\n",
        "iris_df.isnull().sum()"
      ],
      "execution_count": 247,
      "outputs": [
        {
          "output_type": "execute_result",
          "data": {
            "text/plain": [
              "sepal length (cm)    0\n",
              "sepal width (cm)     0\n",
              "petal length (cm)    0\n",
              "petal width (cm)     0\n",
              "species              0\n",
              "dtype: int64"
            ]
          },
          "metadata": {},
          "execution_count": 247
        }
      ]
    },
    {
      "cell_type": "code",
      "metadata": {
        "colab": {
          "base_uri": "https://localhost:8080/"
        },
        "id": "6yZYGcpWIYYw",
        "outputId": "8afe47ce-64df-4f7b-8242-f1647f598ded"
      },
      "source": [
        "#printing the dataset information\n",
        "iris_df.info()"
      ],
      "execution_count": 248,
      "outputs": [
        {
          "output_type": "stream",
          "name": "stdout",
          "text": [
            "<class 'pandas.core.frame.DataFrame'>\n",
            "RangeIndex: 150 entries, 0 to 149\n",
            "Data columns (total 5 columns):\n",
            " #   Column             Non-Null Count  Dtype   \n",
            "---  ------             --------------  -----   \n",
            " 0   sepal length (cm)  150 non-null    float64 \n",
            " 1   sepal width (cm)   150 non-null    float64 \n",
            " 2   petal length (cm)  150 non-null    float64 \n",
            " 3   petal width (cm)   150 non-null    float64 \n",
            " 4   species            150 non-null    category\n",
            "dtypes: category(1), float64(4)\n",
            "memory usage: 5.1 KB\n"
          ]
        }
      ]
    },
    {
      "cell_type": "code",
      "metadata": {
        "colab": {
          "base_uri": "https://localhost:8080/",
          "height": 297
        },
        "id": "5l6aXpKcIYWG",
        "outputId": "329e9f91-b0ea-4a46-d164-c47593f5f220"
      },
      "source": [
        "#priting the numerical weights and averages of the dataset\n",
        "iris_df.describe()"
      ],
      "execution_count": 249,
      "outputs": [
        {
          "output_type": "execute_result",
          "data": {
            "text/html": [
              "<div>\n",
              "<style scoped>\n",
              "    .dataframe tbody tr th:only-of-type {\n",
              "        vertical-align: middle;\n",
              "    }\n",
              "\n",
              "    .dataframe tbody tr th {\n",
              "        vertical-align: top;\n",
              "    }\n",
              "\n",
              "    .dataframe thead th {\n",
              "        text-align: right;\n",
              "    }\n",
              "</style>\n",
              "<table border=\"1\" class=\"dataframe\">\n",
              "  <thead>\n",
              "    <tr style=\"text-align: right;\">\n",
              "      <th></th>\n",
              "      <th>sepal length (cm)</th>\n",
              "      <th>sepal width (cm)</th>\n",
              "      <th>petal length (cm)</th>\n",
              "      <th>petal width (cm)</th>\n",
              "    </tr>\n",
              "  </thead>\n",
              "  <tbody>\n",
              "    <tr>\n",
              "      <th>count</th>\n",
              "      <td>150.000000</td>\n",
              "      <td>150.000000</td>\n",
              "      <td>150.000000</td>\n",
              "      <td>150.000000</td>\n",
              "    </tr>\n",
              "    <tr>\n",
              "      <th>mean</th>\n",
              "      <td>5.843333</td>\n",
              "      <td>3.057333</td>\n",
              "      <td>3.758000</td>\n",
              "      <td>1.199333</td>\n",
              "    </tr>\n",
              "    <tr>\n",
              "      <th>std</th>\n",
              "      <td>0.828066</td>\n",
              "      <td>0.435866</td>\n",
              "      <td>1.765298</td>\n",
              "      <td>0.762238</td>\n",
              "    </tr>\n",
              "    <tr>\n",
              "      <th>min</th>\n",
              "      <td>4.300000</td>\n",
              "      <td>2.000000</td>\n",
              "      <td>1.000000</td>\n",
              "      <td>0.100000</td>\n",
              "    </tr>\n",
              "    <tr>\n",
              "      <th>25%</th>\n",
              "      <td>5.100000</td>\n",
              "      <td>2.800000</td>\n",
              "      <td>1.600000</td>\n",
              "      <td>0.300000</td>\n",
              "    </tr>\n",
              "    <tr>\n",
              "      <th>50%</th>\n",
              "      <td>5.800000</td>\n",
              "      <td>3.000000</td>\n",
              "      <td>4.350000</td>\n",
              "      <td>1.300000</td>\n",
              "    </tr>\n",
              "    <tr>\n",
              "      <th>75%</th>\n",
              "      <td>6.400000</td>\n",
              "      <td>3.300000</td>\n",
              "      <td>5.100000</td>\n",
              "      <td>1.800000</td>\n",
              "    </tr>\n",
              "    <tr>\n",
              "      <th>max</th>\n",
              "      <td>7.900000</td>\n",
              "      <td>4.400000</td>\n",
              "      <td>6.900000</td>\n",
              "      <td>2.500000</td>\n",
              "    </tr>\n",
              "  </tbody>\n",
              "</table>\n",
              "</div>"
            ],
            "text/plain": [
              "       sepal length (cm)  sepal width (cm)  petal length (cm)  petal width (cm)\n",
              "count         150.000000        150.000000         150.000000        150.000000\n",
              "mean            5.843333          3.057333           3.758000          1.199333\n",
              "std             0.828066          0.435866           1.765298          0.762238\n",
              "min             4.300000          2.000000           1.000000          0.100000\n",
              "25%             5.100000          2.800000           1.600000          0.300000\n",
              "50%             5.800000          3.000000           4.350000          1.300000\n",
              "75%             6.400000          3.300000           5.100000          1.800000\n",
              "max             7.900000          4.400000           6.900000          2.500000"
            ]
          },
          "metadata": {},
          "execution_count": 249
        }
      ]
    },
    {
      "cell_type": "code",
      "metadata": {
        "colab": {
          "base_uri": "https://localhost:8080/"
        },
        "id": "OQjkuKPOik9Y",
        "outputId": "cb2d9f70-b8eb-4c62-fd34-ff97b3d711c5"
      },
      "source": [
        "#printing the count of each category of the species \n",
        "iris_df.groupby('species').size()"
      ],
      "execution_count": 250,
      "outputs": [
        {
          "output_type": "execute_result",
          "data": {
            "text/plain": [
              "species\n",
              "setosa        50\n",
              "versicolor    50\n",
              "virginica     50\n",
              "dtype: int64"
            ]
          },
          "metadata": {},
          "execution_count": 250
        }
      ]
    },
    {
      "cell_type": "code",
      "metadata": {
        "colab": {
          "base_uri": "https://localhost:8080/",
          "height": 173
        },
        "id": "9VUe7AEsIYOC",
        "outputId": "a3c8fd75-c17a-44e7-c161-ee5407257a38"
      },
      "source": [
        "#printing the mean of each catgory of the species\n",
        "iris_df.groupby('species').mean()"
      ],
      "execution_count": 251,
      "outputs": [
        {
          "output_type": "execute_result",
          "data": {
            "text/html": [
              "<div>\n",
              "<style scoped>\n",
              "    .dataframe tbody tr th:only-of-type {\n",
              "        vertical-align: middle;\n",
              "    }\n",
              "\n",
              "    .dataframe tbody tr th {\n",
              "        vertical-align: top;\n",
              "    }\n",
              "\n",
              "    .dataframe thead th {\n",
              "        text-align: right;\n",
              "    }\n",
              "</style>\n",
              "<table border=\"1\" class=\"dataframe\">\n",
              "  <thead>\n",
              "    <tr style=\"text-align: right;\">\n",
              "      <th></th>\n",
              "      <th>sepal length (cm)</th>\n",
              "      <th>sepal width (cm)</th>\n",
              "      <th>petal length (cm)</th>\n",
              "      <th>petal width (cm)</th>\n",
              "    </tr>\n",
              "    <tr>\n",
              "      <th>species</th>\n",
              "      <th></th>\n",
              "      <th></th>\n",
              "      <th></th>\n",
              "      <th></th>\n",
              "    </tr>\n",
              "  </thead>\n",
              "  <tbody>\n",
              "    <tr>\n",
              "      <th>setosa</th>\n",
              "      <td>5.006</td>\n",
              "      <td>3.428</td>\n",
              "      <td>1.462</td>\n",
              "      <td>0.246</td>\n",
              "    </tr>\n",
              "    <tr>\n",
              "      <th>versicolor</th>\n",
              "      <td>5.936</td>\n",
              "      <td>2.770</td>\n",
              "      <td>4.260</td>\n",
              "      <td>1.326</td>\n",
              "    </tr>\n",
              "    <tr>\n",
              "      <th>virginica</th>\n",
              "      <td>6.588</td>\n",
              "      <td>2.974</td>\n",
              "      <td>5.552</td>\n",
              "      <td>2.026</td>\n",
              "    </tr>\n",
              "  </tbody>\n",
              "</table>\n",
              "</div>"
            ],
            "text/plain": [
              "            sepal length (cm)  ...  petal width (cm)\n",
              "species                        ...                  \n",
              "setosa                  5.006  ...             0.246\n",
              "versicolor              5.936  ...             1.326\n",
              "virginica               6.588  ...             2.026\n",
              "\n",
              "[3 rows x 4 columns]"
            ]
          },
          "metadata": {},
          "execution_count": 251
        }
      ]
    },
    {
      "cell_type": "code",
      "metadata": {
        "id": "B-iyt6KqqeXi",
        "colab": {
          "base_uri": "https://localhost:8080/",
          "height": 411
        },
        "outputId": "01fb65e1-9313-47ae-f45e-7d47e762a795"
      },
      "source": [
        "#Visualising the species data based on count of each category using a pie chart\n",
        "iris_df['species'].value_counts().plot.pie(explode=[0.1,0.1,0.1],\n",
        "                  autopct='%1.1f%%', figsize=(7,7))\n",
        "plt.show()"
      ],
      "execution_count": 252,
      "outputs": [
        {
          "output_type": "display_data",
          "data": {
            "image/png": "[encoded data removed]",
            "text/plain": [
              "<Figure size 504x504 with 1 Axes>"
            ]
          },
          "metadata": {}
        }
      ]
    },
    {
      "cell_type": "code",
      "metadata": {
        "id": "-otlbk_KkEdT",
        "colab": {
          "base_uri": "https://localhost:8080/",
          "height": 638
        },
        "outputId": "83a913c1-f0f1-4d3b-942d-b7f18beaa98a"
      },
      "source": [
        "#Visualising the sepal and petal properties using a histogram, making bins of each category \n",
        "\n",
        "iris_df.hist(edgecolor = 'white', linewidth=1.2, figsize=(12,9))"
      ],
      "execution_count": 253,
      "outputs": [
        {
          "output_type": "execute_result",
          "data": {
            "text/plain": [
              "array([[<matplotlib.axes._subplots.AxesSubplot object at 0x7f2bafa14d10>,\n",
              "        <matplotlib.axes._subplots.AxesSubplot object at 0x7f2baf9e4450>],\n",
              "       [<matplotlib.axes._subplots.AxesSubplot object at 0x7f2baf83de90>,\n",
              "        <matplotlib.axes._subplots.AxesSubplot object at 0x7f2baf65b610>]],\n",
              "      dtype=object)"
            ]
          },
          "metadata": {},
          "execution_count": 253
        },
        {
          "output_type": "display_data",
          "data": {
            "image/png": "[encoded data removed]",
            "text/plain": [
              "<Figure size 864x648 with 4 Axes>"
            ]
          },
          "metadata": {
            "needs_background": "light"
          }
        }
      ]
    },
    {
      "cell_type": "code",
      "metadata": {
        "id": "KgE-rdHpkEa2",
        "colab": {
          "base_uri": "https://localhost:8080/"
        },
        "outputId": "2f156c25-85b4-443f-a704-fc166130cd2f"
      },
      "source": [
        "#preparing the data for ML model\n",
        "print(iris_df.head())\n",
        "x = iris_df.drop('species', axis=1)\n",
        "y= iris_df.species"
      ],
      "execution_count": 254,
      "outputs": [
        {
          "output_type": "stream",
          "name": "stdout",
          "text": [
            "   sepal length (cm)  sepal width (cm)  ...  petal width (cm)  species\n",
            "0                5.1               3.5  ...               0.2   setosa\n",
            "1                4.9               3.0  ...               0.2   setosa\n",
            "2                4.7               3.2  ...               0.2   setosa\n",
            "3                4.6               3.1  ...               0.2   setosa\n",
            "4                5.0               3.6  ...               0.2   setosa\n",
            "\n",
            "[5 rows x 5 columns]\n"
          ]
        }
      ]
    },
    {
      "cell_type": "code",
      "metadata": {
        "id": "cGxlZyeRkEYI"
      },
      "source": [
        "#Dividing the data into train and test data in the ration 80:20 standard\n",
        "x_train, x_test, y_train, y_test = train_test_split(x, y, test_size=0.2, random_state=5)\n",
        "\n"
      ],
      "execution_count": 255,
      "outputs": []
    },
    {
      "cell_type": "code",
      "metadata": {
        "id": "uo1Mw-CjkEVR",
        "colab": {
          "base_uri": "https://localhost:8080/"
        },
        "outputId": "9b472b5c-3b2e-4c8d-f3e3-880af55c767c"
      },
      "source": [
        "#printing the shape of data before and after splitting it \n",
        "print(x.shape)\n",
        "print(x_train.shape)\n",
        "print(x_test.shape)\n",
        "print(y.shape)\n",
        "print(y_train.shape)\n",
        "print(y_test.shape)"
      ],
      "execution_count": 256,
      "outputs": [
        {
          "output_type": "stream",
          "name": "stdout",
          "text": [
            "(150, 4)\n",
            "(120, 4)\n",
            "(30, 4)\n",
            "(150,)\n",
            "(120,)\n",
            "(30,)\n"
          ]
        }
      ]
    },
    {
      "cell_type": "markdown",
      "metadata": {
        "id": "hBhwzMW5QcQ6"
      },
      "source": [
        "KNN Model\n"
      ]
    },
    {
      "cell_type": "code",
      "metadata": {
        "id": "lk8XcdytkEPo",
        "colab": {
          "base_uri": "https://localhost:8080/"
        },
        "outputId": "0178ffaf-d361-4389-e355-892d9baa29be"
      },
      "source": [
        "#Training the KNN model using the data\n",
        "#training the nearest neighbour starting with k=9\n",
        "knn = KNeighborsClassifier(n_neighbors=9, weights='uniform')\n",
        "#fitting the model\n",
        "knn.fit(x_train, y_train)\n",
        "#printing the accuracy of the model on the train data\n",
        "print('Accuracy on train data:')\n",
        "print(knn.score(x_train, y_train))\n",
        "#printing the accuracy of the model on the test data\n",
        "print('Accuracy on test data:')\n",
        "print(knn.score(x_test, y_test))\n"
      ],
      "execution_count": 257,
      "outputs": [
        {
          "output_type": "stream",
          "name": "stdout",
          "text": [
            "Accuracy on train data:\n",
            "0.9833333333333333\n",
            "Accuracy on test data:\n",
            "0.9666666666666667\n"
          ]
        }
      ]
    },
    {
      "cell_type": "code",
      "metadata": {
        "id": "aGyuqBdnkELh"
      },
      "source": [
        "#setting the range of neighbours from 1 to 35\n",
        "k_range=list(range(1,35))\n",
        "#considering distane and uniform as the weight parameters\n",
        "options=['distance','uniform']"
      ],
      "execution_count": 296,
      "outputs": []
    },
    {
      "cell_type": "code",
      "metadata": {
        "id": "JowZEC__h-qp"
      },
      "source": [
        "#creating a parameter distribution with the range and weights as declared above\n",
        "param_dist = dict(n_neighbors=k_range, weights = options)"
      ],
      "execution_count": 298,
      "outputs": []
    },
    {
      "cell_type": "code",
      "metadata": {
        "colab": {
          "base_uri": "https://localhost:8080/"
        },
        "id": "Z3SHn1FPh-oc",
        "outputId": "246d017e-b661-4230-ed43-439e5d8f1cb9"
      },
      "source": [
        "#using the knn classifier\n",
        "knn=KNeighborsClassifier()\n",
        "#tuning the number of k usingRandomizedCV \n",
        "rand = RandomizedSearchCV(knn, param_dist, cv=10, scoring='accuracy', n_iter=30, random_state=5)\n",
        "#fitting the model with the randomized weights\n",
        "rand.fit(x, y)\n",
        "#printing the results obtained\n",
        "rand.cv_results_"
      ],
      "execution_count": 299,
      "outputs": [
        {
          "output_type": "execute_result",
          "data": {
            "text/plain": [
              "{'mean_fit_time': array([0.00202374, 0.00210922, 0.00184679, 0.00168371, 0.00161724,\n",
              "        0.00182722, 0.00181344, 0.00167177, 0.00190101, 0.00169251,\n",
              "        0.00164309, 0.00176299, 0.00208886, 0.00187469, 0.00180018,\n",
              "        0.00174587, 0.00173759, 0.00160818, 0.00167964, 0.00165982,\n",
              "        0.00182927, 0.00200708, 0.00197494, 0.00183325, 0.00165415,\n",
              "        0.00169768, 0.00175457, 0.00169251, 0.00182376, 0.00168164]),\n",
              " 'mean_score_time': array([0.00190256, 0.00288162, 0.00195901, 0.00219336, 0.00169449,\n",
              "        0.0019325 , 0.00238242, 0.00222354, 0.00227242, 0.00178974,\n",
              "        0.0017158 , 0.00225096, 0.00258465, 0.00190268, 0.0024049 ,\n",
              "        0.00218422, 0.00213618, 0.00173795, 0.00178123, 0.00179503,\n",
              "        0.00257077, 0.00226073, 0.00280366, 0.00233827, 0.00181057,\n",
              "        0.00174882, 0.00215914, 0.00181568, 0.00172896, 0.00216308]),\n",
              " 'mean_test_score': array([0.97333333, 0.97333333, 0.98      , 0.94666667, 0.96666667,\n",
              "        0.97333333, 0.98      , 0.97333333, 0.98      , 0.98      ,\n",
              "        0.97333333, 0.95333333, 0.96      , 0.96666667, 0.98      ,\n",
              "        0.95333333, 0.97333333, 0.97333333, 0.96666667, 0.96666667,\n",
              "        0.97333333, 0.95333333, 0.96666667, 0.97333333, 0.97333333,\n",
              "        0.97333333, 0.96666667, 0.96666667, 0.96666667, 0.97333333]),\n",
              " 'param_n_neighbors': masked_array(data=[18, 23, 15, 33, 6, 24, 18, 19, 19, 17, 13, 29, 26, 21,\n",
              "                    13, 2, 12, 29, 26, 30, 15, 30, 11, 9, 28, 14, 10, 22,\n",
              "                    4, 17],\n",
              "              mask=[False, False, False, False, False, False, False, False,\n",
              "                    False, False, False, False, False, False, False, False,\n",
              "                    False, False, False, False, False, False, False, False,\n",
              "                    False, False, False, False, False, False],\n",
              "        fill_value='?',\n",
              "             dtype=object),\n",
              " 'param_weights': masked_array(data=['distance', 'uniform', 'distance', 'uniform',\n",
              "                    'distance', 'distance', 'uniform', 'uniform',\n",
              "                    'distance', 'distance', 'distance', 'uniform',\n",
              "                    'uniform', 'distance', 'uniform', 'uniform', 'uniform',\n",
              "                    'distance', 'distance', 'distance', 'uniform',\n",
              "                    'uniform', 'uniform', 'uniform', 'distance',\n",
              "                    'distance', 'uniform', 'distance', 'distance',\n",
              "                    'uniform'],\n",
              "              mask=[False, False, False, False, False, False, False, False,\n",
              "                    False, False, False, False, False, False, False, False,\n",
              "                    False, False, False, False, False, False, False, False,\n",
              "                    False, False, False, False, False, False],\n",
              "        fill_value='?',\n",
              "             dtype=object),\n",
              " 'params': [{'n_neighbors': 18, 'weights': 'distance'},\n",
              "  {'n_neighbors': 23, 'weights': 'uniform'},\n",
              "  {'n_neighbors': 15, 'weights': 'distance'},\n",
              "  {'n_neighbors': 33, 'weights': 'uniform'},\n",
              "  {'n_neighbors': 6, 'weights': 'distance'},\n",
              "  {'n_neighbors': 24, 'weights': 'distance'},\n",
              "  {'n_neighbors': 18, 'weights': 'uniform'},\n",
              "  {'n_neighbors': 19, 'weights': 'uniform'},\n",
              "  {'n_neighbors': 19, 'weights': 'distance'},\n",
              "  {'n_neighbors': 17, 'weights': 'distance'},\n",
              "  {'n_neighbors': 13, 'weights': 'distance'},\n",
              "  {'n_neighbors': 29, 'weights': 'uniform'},\n",
              "  {'n_neighbors': 26, 'weights': 'uniform'},\n",
              "  {'n_neighbors': 21, 'weights': 'distance'},\n",
              "  {'n_neighbors': 13, 'weights': 'uniform'},\n",
              "  {'n_neighbors': 2, 'weights': 'uniform'},\n",
              "  {'n_neighbors': 12, 'weights': 'uniform'},\n",
              "  {'n_neighbors': 29, 'weights': 'distance'},\n",
              "  {'n_neighbors': 26, 'weights': 'distance'},\n",
              "  {'n_neighbors': 30, 'weights': 'distance'},\n",
              "  {'n_neighbors': 15, 'weights': 'uniform'},\n",
              "  {'n_neighbors': 30, 'weights': 'uniform'},\n",
              "  {'n_neighbors': 11, 'weights': 'uniform'},\n",
              "  {'n_neighbors': 9, 'weights': 'uniform'},\n",
              "  {'n_neighbors': 28, 'weights': 'distance'},\n",
              "  {'n_neighbors': 14, 'weights': 'distance'},\n",
              "  {'n_neighbors': 10, 'weights': 'uniform'},\n",
              "  {'n_neighbors': 22, 'weights': 'distance'},\n",
              "  {'n_neighbors': 4, 'weights': 'distance'},\n",
              "  {'n_neighbors': 17, 'weights': 'uniform'}],\n",
              " 'rank_test_score': array([ 6,  6,  1, 30, 18,  6,  1,  6,  1,  1,  6, 27, 26, 18,  1, 27,  6,\n",
              "         6, 18, 24,  6, 27, 18,  6,  6,  6, 18, 18, 24,  6], dtype=int32),\n",
              " 'split0_test_score': array([1.        , 0.93333333, 1.        , 0.93333333, 1.        ,\n",
              "        1.        , 1.        , 0.93333333, 1.        , 1.        ,\n",
              "        1.        , 0.93333333, 0.93333333, 1.        , 1.        ,\n",
              "        1.        , 1.        , 1.        , 1.        , 1.        ,\n",
              "        0.93333333, 0.93333333, 1.        , 1.        , 1.        ,\n",
              "        1.        , 1.        , 1.        , 1.        , 0.93333333]),\n",
              " 'split1_test_score': array([0.93333333, 0.93333333, 0.93333333, 0.93333333, 0.93333333,\n",
              "        0.93333333, 0.93333333, 0.93333333, 0.93333333, 0.93333333,\n",
              "        0.93333333, 0.93333333, 0.93333333, 0.93333333, 0.93333333,\n",
              "        0.93333333, 0.93333333, 0.93333333, 0.93333333, 0.93333333,\n",
              "        0.93333333, 0.93333333, 0.93333333, 0.93333333, 0.93333333,\n",
              "        0.93333333, 0.93333333, 0.93333333, 0.93333333, 0.93333333]),\n",
              " 'split2_test_score': array([1., 1., 1., 1., 1., 1., 1., 1., 1., 1., 1., 1., 1., 1., 1., 1., 1.,\n",
              "        1., 1., 1., 1., 1., 1., 1., 1., 1., 1., 1., 1., 1.]),\n",
              " 'split3_test_score': array([1.        , 1.        , 1.        , 0.93333333, 1.        ,\n",
              "        1.        , 1.        , 1.        , 1.        , 1.        ,\n",
              "        1.        , 0.93333333, 1.        , 1.        , 1.        ,\n",
              "        0.93333333, 1.        , 0.93333333, 1.        , 0.93333333,\n",
              "        1.        , 0.93333333, 1.        , 1.        , 1.        ,\n",
              "        1.        , 1.        , 1.        , 0.93333333, 1.        ]),\n",
              " 'split4_test_score': array([0.93333333, 1.        , 1.        , 1.        , 0.86666667,\n",
              "        0.93333333, 1.        , 1.        , 1.        , 1.        ,\n",
              "        0.93333333, 1.        , 1.        , 0.86666667, 1.        ,\n",
              "        0.86666667, 1.        , 1.        , 0.86666667, 0.93333333,\n",
              "        1.        , 1.        , 1.        , 1.        , 0.93333333,\n",
              "        0.93333333, 1.        , 0.86666667, 0.86666667, 1.        ]),\n",
              " 'split5_test_score': array([0.93333333, 0.93333333, 0.93333333, 0.86666667, 0.93333333,\n",
              "        0.93333333, 0.93333333, 0.93333333, 0.93333333, 0.93333333,\n",
              "        0.93333333, 0.86666667, 0.86666667, 0.93333333, 0.93333333,\n",
              "        1.        , 0.93333333, 0.93333333, 0.93333333, 0.93333333,\n",
              "        0.93333333, 0.86666667, 0.86666667, 0.93333333, 0.93333333,\n",
              "        0.93333333, 0.86666667, 0.93333333, 1.        , 0.93333333]),\n",
              " 'split6_test_score': array([0.93333333, 0.93333333, 0.93333333, 0.86666667, 0.93333333,\n",
              "        0.93333333, 0.93333333, 0.93333333, 0.93333333, 0.93333333,\n",
              "        0.93333333, 0.93333333, 0.93333333, 0.93333333, 0.93333333,\n",
              "        0.86666667, 0.93333333, 0.93333333, 0.93333333, 0.93333333,\n",
              "        0.93333333, 0.93333333, 0.93333333, 0.93333333, 0.93333333,\n",
              "        0.93333333, 0.93333333, 0.93333333, 0.93333333, 0.93333333]),\n",
              " 'split7_test_score': array([1.        , 1.        , 1.        , 0.93333333, 1.        ,\n",
              "        1.        , 1.        , 1.        , 1.        , 1.        ,\n",
              "        1.        , 0.93333333, 0.93333333, 1.        , 1.        ,\n",
              "        0.93333333, 0.93333333, 1.        , 1.        , 1.        ,\n",
              "        1.        , 0.93333333, 0.93333333, 0.93333333, 1.        ,\n",
              "        1.        , 0.93333333, 1.        , 1.        , 1.        ]),\n",
              " 'split8_test_score': array([1., 1., 1., 1., 1., 1., 1., 1., 1., 1., 1., 1., 1., 1., 1., 1., 1.,\n",
              "        1., 1., 1., 1., 1., 1., 1., 1., 1., 1., 1., 1., 1.]),\n",
              " 'split9_test_score': array([1., 1., 1., 1., 1., 1., 1., 1., 1., 1., 1., 1., 1., 1., 1., 1., 1.,\n",
              "        1., 1., 1., 1., 1., 1., 1., 1., 1., 1., 1., 1., 1.]),\n",
              " 'std_fit_time': array([6.09809048e-04, 5.55185519e-04, 1.89863030e-04, 6.73149008e-05,\n",
              "        4.85637987e-05, 2.34545153e-04, 2.58013243e-04, 3.68148628e-05,\n",
              "        3.36463834e-04, 8.64877617e-05, 3.57682224e-05, 1.40452110e-04,\n",
              "        3.82263134e-04, 1.71197091e-04, 5.86040676e-05, 6.25681446e-05,\n",
              "        1.33249753e-04, 5.30400484e-05, 1.51815263e-04, 2.84829487e-05,\n",
              "        3.68469959e-04, 6.88877419e-04, 3.76927683e-04, 1.12840509e-04,\n",
              "        4.74388272e-05, 1.15783397e-04, 1.48403024e-04, 1.43346539e-04,\n",
              "        4.71270520e-04, 3.45205157e-05]),\n",
              " 'std_score_time': array([8.44442426e-05, 1.10194432e-03, 3.71221694e-04, 8.88141817e-05,\n",
              "        1.00559225e-04, 2.44106100e-04, 3.70831696e-04, 1.59430267e-04,\n",
              "        1.10145358e-03, 1.15394151e-04, 3.03210322e-05, 1.72499584e-04,\n",
              "        4.00822999e-04, 4.86198796e-05, 2.43290184e-04, 8.40343512e-05,\n",
              "        3.87322411e-05, 1.04420765e-04, 1.03379846e-04, 2.52130212e-05,\n",
              "        7.87036365e-04, 8.99292505e-05, 1.15989191e-03, 1.68600752e-04,\n",
              "        9.75603145e-05, 9.83179047e-05, 1.57329183e-04, 1.95458955e-04,\n",
              "        1.58024036e-04, 3.51738438e-05]),\n",
              " 'std_test_score': array([0.03265986, 0.03265986, 0.0305505 , 0.04988877, 0.04472136,\n",
              "        0.03265986, 0.0305505 , 0.03265986, 0.0305505 , 0.0305505 ,\n",
              "        0.03265986, 0.04268749, 0.04422166, 0.04472136, 0.0305505 ,\n",
              "        0.05206833, 0.03265986, 0.03265986, 0.04472136, 0.03333333,\n",
              "        0.03265986, 0.04268749, 0.04472136, 0.03265986, 0.03265986,\n",
              "        0.03265986, 0.04472136, 0.04472136, 0.04472136, 0.03265986])}"
            ]
          },
          "metadata": {},
          "execution_count": 299
        }
      ]
    },
    {
      "cell_type": "code",
      "metadata": {
        "colab": {
          "base_uri": "https://localhost:8080/"
        },
        "id": "ASQApT_lh-mH",
        "outputId": "62ec2cf3-f775-4d38-9af0-d728db9d02ab"
      },
      "source": [
        "#printing the best accuracy obtained\n",
        "print('Best Accuracy: ')\n",
        "print(rand.best_score_)\n",
        "#printing the parameters for which the best accuracy is obtained\n",
        "print('Best Parameters: ')\n",
        "print(rand.best_params_)"
      ],
      "execution_count": 300,
      "outputs": [
        {
          "output_type": "stream",
          "name": "stdout",
          "text": [
            "Best Accuracy: \n",
            "0.9800000000000001\n",
            "Best Parameters: \n",
            "{'weights': 'distance', 'n_neighbors': 15}\n"
          ]
        }
      ]
    },
    {
      "cell_type": "markdown",
      "metadata": {
        "id": "55rk2bheNl2d"
      },
      "source": [
        "SVM Model\n"
      ]
    },
    {
      "cell_type": "code",
      "metadata": {
        "colab": {
          "base_uri": "https://localhost:8080/"
        },
        "id": "1rvUAzV_h-dR",
        "outputId": "eff385c1-fe9f-456b-a7ab-90478cd8143b"
      },
      "source": [
        "#Training the SVM model using the data\n",
        "#training the model without any kernel functions, C or gamma values\n",
        "svm = SVC()\n",
        "#fitting the model\n",
        "svm.fit(x_train, y_train)\n",
        "#printing the accuracy of the model on the train data\n",
        "print('Accuracy on train data:')\n",
        "print(svm.score(x_train, y_train))\n",
        "#printing the accuracy of the model on the test data\n",
        "print('Accuracy on test data:')\n",
        "print(svm.score(x_test, y_test))"
      ],
      "execution_count": 305,
      "outputs": [
        {
          "output_type": "stream",
          "name": "stdout",
          "text": [
            "Accuracy on train data:\n",
            "0.975\n",
            "Accuracy on test data:\n",
            "0.9666666666666667\n"
          ]
        }
      ]
    },
    {
      "cell_type": "code",
      "metadata": {
        "id": "XjqHfHAfYqMJ"
      },
      "source": [
        "#mapping the string data into numerics to caluclate the rmse\n",
        "#y_train_map=y_train.map({'versicolor':1,'virginica':2,'setosa':3})\n",
        "#y_test_map=y_test.map({'versicolor':1,'virginica':2,'setosa':3})\n",
        "#calculating the mean squared error\n",
        "#mse = mean_squared_error(x_test,y_test)\n",
        "#calculating the root mean square error\n"
      ],
      "execution_count": 265,
      "outputs": []
    },
    {
      "cell_type": "code",
      "metadata": {
        "colab": {
          "base_uri": "https://localhost:8080/",
          "height": 37
        },
        "id": "_Yf10O5nbysM",
        "outputId": "57d0c01e-1901-4584-99eb-31ba60612c06"
      },
      "source": [
        "#training the model using knn with rbf kernel function\n",
        "rbf_svm= SVC(kernel='rbf')\n",
        "#printing the kernel function used\n",
        "rbf_svm.kernel"
      ],
      "execution_count": 266,
      "outputs": [
        {
          "output_type": "execute_result",
          "data": {
            "application/vnd.google.colaboratory.intrinsic+json": {
              "type": "string"
            },
            "text/plain": [
              "'rbf'"
            ]
          },
          "metadata": {},
          "execution_count": 266
        }
      ]
    },
    {
      "cell_type": "code",
      "metadata": {
        "colab": {
          "base_uri": "https://localhost:8080/"
        },
        "id": "OguG_ZYUbykh",
        "outputId": "269e44b3-0a64-4180-c164-012ed4189d3d"
      },
      "source": [
        "#fitting the model with rbf kernel function used\n",
        "rbf_svm.fit(x_train, y_train)\n",
        "#printing the accuracy of the model on the train data\n",
        "print('Accuracy on train data:')\n",
        "print(rbf_svm.score(x_train, y_train))\n",
        "#printing the accuracy of the model on the test data\n",
        "print('Accuracy on test data:')\n",
        "print(rbf_svm.score(x_test, y_test))"
      ],
      "execution_count": 267,
      "outputs": [
        {
          "output_type": "stream",
          "name": "stdout",
          "text": [
            "Accuracy on train data:\n",
            "0.975\n",
            "Accuracy on test data:\n",
            "0.9666666666666667\n"
          ]
        }
      ]
    },
    {
      "cell_type": "code",
      "metadata": {
        "colab": {
          "base_uri": "https://localhost:8080/"
        },
        "id": "hW3ZrDUfbyfA",
        "outputId": "87f3f342-1bc3-4ce9-caee-89e4e4280236"
      },
      "source": [
        "#training the model using knn with linear kernel function\n",
        "linear_svm=SVC(kernel='linear')\n",
        "#fitting the model with rbf kernel function used\n",
        "linear_svm.fit(x_train,y_train)\n",
        "#printing the accuracy of the model on the train data\n",
        "print('Accuracy on train data:')\n",
        "print(linear_svm.score(x_train,y_train))\n",
        "#printing the accuracy of the model on the test data\n",
        "print('Accuracy on test data:')\n",
        "print(linear_svm.score(x_test,y_test))\n"
      ],
      "execution_count": 268,
      "outputs": [
        {
          "output_type": "stream",
          "name": "stdout",
          "text": [
            "Accuracy on train data:\n",
            "0.9916666666666667\n",
            "Accuracy on test data:\n",
            "0.9333333333333333\n"
          ]
        }
      ]
    },
    {
      "cell_type": "code",
      "metadata": {
        "id": "CusaVaJlloYC"
      },
      "source": [
        "#Tune SVM hyperparameters by using GridSearchCV with cross validation \n",
        "param_grid = { 'C':[0.1,1,10,100,1000],#drtting the c values as above\n",
        "              'kernel':['rbf'], #using only rbf as kernel function( can used linear, poly and sigmoid too)\n",
        "              'degree':[1,2,3,4,5,6],#setting the degree from 1 to6\n",
        "              'gamma': [1, 0.1, 0.01, 0.001,0.0001]}#setting the gamma range as above\n",
        "#creating a grid with above prameter grid made\n",
        "grid = GridSearchCV(SVC(),param_grid)"
      ],
      "execution_count": 301,
      "outputs": []
    },
    {
      "cell_type": "code",
      "metadata": {
        "colab": {
          "base_uri": "https://localhost:8080/"
        },
        "id": "TXz5Xx7PltW2",
        "outputId": "47d9898c-a018-4b31-d4be-2c9733bd0f9e"
      },
      "source": [
        "#fitting the model with the grid made above\n",
        "grid.fit(x_train,y_train)"
      ],
      "execution_count": 303,
      "outputs": [
        {
          "output_type": "execute_result",
          "data": {
            "text/plain": [
              "GridSearchCV(cv=None, error_score=nan,\n",
              "             estimator=SVC(C=1.0, break_ties=False, cache_size=200,\n",
              "                           class_weight=None, coef0=0.0,\n",
              "                           decision_function_shape='ovr', degree=3,\n",
              "                           gamma='scale', kernel='rbf', max_iter=-1,\n",
              "                           probability=False, random_state=None, shrinking=True,\n",
              "                           tol=0.001, verbose=False),\n",
              "             iid='deprecated', n_jobs=None,\n",
              "             param_grid={'C': [0.1, 1, 10, 100, 1000],\n",
              "                         'degree': [1, 2, 3, 4, 5, 6],\n",
              "                         'gamma': [1, 0.1, 0.01, 0.001, 0.0001],\n",
              "                         'kernel': ['rbf']},\n",
              "             pre_dispatch='2*n_jobs', refit=True, return_train_score=False,\n",
              "             scoring=None, verbose=0)"
            ]
          },
          "metadata": {},
          "execution_count": 303
        }
      ]
    },
    {
      "cell_type": "code",
      "metadata": {
        "colab": {
          "base_uri": "https://localhost:8080/"
        },
        "id": "URA3hIx1ltTY",
        "outputId": "effb5cea-4eb2-4ca2-cb35-cc26347c0ae0"
      },
      "source": [
        "#printing the best fit values of C, degree and gamma\n",
        "print(grid.best_params_)\n",
        "#printing the accuracy of the model with these parameter values\n",
        "print(grid.score(x_test,y_test))\n"
      ],
      "execution_count": 286,
      "outputs": [
        {
          "output_type": "stream",
          "name": "stdout",
          "text": [
            "{'C': 10, 'degree': 1, 'gamma': 0.1, 'kernel': 'rbf'}\n",
            "0.9666666666666667\n"
          ]
        }
      ]
    },
    {
      "cell_type": "markdown",
      "metadata": {
        "id": "GOCwK8L7zNKd"
      },
      "source": [
        "#END OF CODE"
      ]
    }
  ]
}