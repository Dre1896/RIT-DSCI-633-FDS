{
  "nbformat": 4,
  "nbformat_minor": 0,
  "metadata": {
    "colab": {
      "name": "Assignment 5- Neural Network.ipynb",
      "provenance": [],
      "collapsed_sections": []
    },
    "kernelspec": {
      "name": "python3",
      "display_name": "Python 3"
    },
    "language_info": {
      "name": "python"
    },
    "accelerator": "GPU"
  },
  "cells": [
    {
      "cell_type": "markdown",
      "metadata": {
        "id": "20YkcggVghfa"
      },
      "source": [
        "Step 0 - import NN libraries \n",
        "\n"
      ]
    },
    {
      "cell_type": "code",
      "metadata": {
        "id": "PfUTEJOL3szK"
      },
      "source": [
        "import numpy as np\n",
        "import pandas as pd \n",
        "import math\n",
        "import matplotlib.cm as cm \n",
        "import matplotlib.pyplot as plt\n",
        "import seaborn as sns\n",
        "import os\n",
        "from keras.layers import Conv2D, MaxPool2D\n",
        "from keras.layers import MaxPooling2D\n",
        "from keras.models import Sequential\n",
        "from keras.callbacks import ReduceLROnPlateau\n",
        "from keras.layers import Dense , Dropout , Lambda, Flatten\n",
        "from tensorflow.keras.utils import to_categorical\n",
        "from tensorflow.keras.utils import plot_model\n",
        "from tensorflow.keras.optimizers import Adam\n",
        "from tensorflow.keras.optimizers import RMSprop\n",
        "from sklearn.model_selection import train_test_split\n",
        "from sklearn.metrics import confusion_matrix\n",
        "from keras.callbacks import LearningRateScheduler\n",
        "from keras import  backend as K\n",
        "from keras.preprocessing.image import ImageDataGenerator\n",
        "from subprocess import check_output\n",
        "import tensorflow as tf"
      ],
      "execution_count": 48,
      "outputs": []
    },
    {
      "cell_type": "markdown",
      "metadata": {
        "id": "G41zdTsZgl0Z"
      },
      "source": [
        "Step 1 - Load the data "
      ]
    },
    {
      "cell_type": "code",
      "metadata": {
        "colab": {
          "base_uri": "https://localhost:8080/"
        },
        "id": "Nr75jn10eHr7",
        "outputId": "81b641bd-7c9c-468f-d672-f514a4569581"
      },
      "source": [
        "from keras.datasets import mnist #importing the mnist datset from keras\n",
        "(x_train, y_train),(x_test, y_test) = mnist.load_data() #splitting the data as test and train\n",
        "assert x_train.shape == (60000, 28, 28)\n",
        "assert x_test.shape == (10000, 28, 28)\n",
        "assert y_train.shape == (60000,)\n",
        "assert y_test.shape == (10000,)\n",
        "unique, counts = np.unique(y_train, return_counts=True)\n",
        "print(\"Train labels: \", dict(zip(unique, counts))) # displaying the count of unique train.  labels\n",
        "unique, counts = np.unique(y_test, return_counts=True)\n",
        "print(\"\\nTest labels: \", dict(zip(unique, counts))) # displaying the count of unique tets labels"
      ],
      "execution_count": 3,
      "outputs": [
        {
          "output_type": "stream",
          "name": "stdout",
          "text": [
            "Downloading data from https://storage.googleapis.com/tensorflow/tf-keras-datasets/mnist.npz\n",
            "11493376/11490434 [==============================] - 0s 0us/step\n",
            "11501568/11490434 [==============================] - 0s 0us/step\n",
            "Train labels:  {0: 5923, 1: 6742, 2: 5958, 3: 6131, 4: 5842, 5: 5421, 6: 5918, 7: 6265, 8: 5851, 9: 5949}\n",
            "\n",
            "Test labels:  {0: 980, 1: 1135, 2: 1032, 3: 1010, 4: 982, 5: 892, 6: 958, 7: 1028, 8: 974, 9: 1009}\n"
          ]
        }
      ]
    },
    {
      "cell_type": "code",
      "metadata": {
        "colab": {
          "base_uri": "https://localhost:8080/",
          "height": 296
        },
        "id": "UWufswpUzWX7",
        "outputId": "c2325d62-4e0a-4fa0-9b29-6ceb3ac1f650"
      },
      "source": [
        "#displaying a bar graph of counts of each label\n",
        "y_value=np.zeros((1,10))\n",
        "for i in range (10):\n",
        "    y_value[0,i-1]= np.count_nonzero(y_test==i)\n",
        "y_value=y_value.ravel()\n",
        "x_value=[0,1,2,3,4,5,6,7,8,9]\n",
        "plt.xlabel('label')\n",
        "plt.ylabel('count')\n",
        "plt.bar(x_value,y_value,0.7,color='y')"
      ],
      "execution_count": 4,
      "outputs": [
        {
          "output_type": "execute_result",
          "data": {
            "text/plain": [
              "<BarContainer object of 10 artists>"
            ]
          },
          "metadata": {},
          "execution_count": 4
        },
        {
          "output_type": "display_data",
          "data": {
            "image/png": "[encoded data removed]",
            "text/plain": [
              "<Figure size 432x288 with 1 Axes>"
            ]
          },
          "metadata": {
            "needs_background": "light"
          }
        }
      ]
    },
    {
      "cell_type": "code",
      "metadata": {
        "colab": {
          "base_uri": "https://localhost:8080/"
        },
        "id": "j2TSyV01k35c",
        "outputId": "2c61666b-e529-4897-86cd-d7157ea21616"
      },
      "source": [
        "print('Train Data Dimensions: x=%s, y=%s' % (x_train.shape, y_train.shape)) #printing the dimensions of the train and test data \n",
        "print('Test Data Dimensions: x=%s, y=%s' % (x_test.shape, y_test.shape))\n"
      ],
      "execution_count": 5,
      "outputs": [
        {
          "output_type": "stream",
          "name": "stdout",
          "text": [
            "Train Data Dimensions: x=(60000, 28, 28), y=(60000,)\n",
            "Test Data Dimensions: x=(10000, 28, 28), y=(10000,)\n"
          ]
        }
      ]
    },
    {
      "cell_type": "code",
      "metadata": {
        "colab": {
          "base_uri": "https://localhost:8080/",
          "height": 268
        },
        "id": "1I7kgcTUk32z",
        "outputId": "76cb4e1e-665c-4ff4-cdd9-b4ef339f2f7c"
      },
      "source": [
        "for i in range(9): #displaying 9 images from the train data\n",
        "\tplt.subplot(330 + 1 + i) \t#defining the subplot\n",
        "\tplt.imshow(x_train[i], cmap=plt.get_cmap('gray')) #plotting the raw pixel data\n",
        "plt.show() #displaying the train data"
      ],
      "execution_count": 6,
      "outputs": [
        {
          "output_type": "display_data",
          "data": {
            "image/png": "[encoded data removed]",
            "text/plain": [
              "<Figure size 432x288 with 9 Axes>"
            ]
          },
          "metadata": {
            "needs_background": "light"
          }
        }
      ]
    },
    {
      "cell_type": "code",
      "metadata": {
        "colab": {
          "base_uri": "https://localhost:8080/"
        },
        "id": "80x9UbXbk3z9",
        "outputId": "001d1543-eafe-4e70-9955-a747cf3541a4"
      },
      "source": [
        "num_labels = len(np.unique(y_train))\n",
        "print(num_labels) #printing the number of unique numbers present\n"
      ],
      "execution_count": 7,
      "outputs": [
        {
          "output_type": "stream",
          "name": "stdout",
          "text": [
            "10\n"
          ]
        }
      ]
    },
    {
      "cell_type": "markdown",
      "metadata": {
        "id": "wEMDfEg3sGzY"
      },
      "source": [
        "Step 2 - Data pre-processing\n"
      ]
    },
    {
      "cell_type": "code",
      "metadata": {
        "id": "y23WirQBk3te"
      },
      "source": [
        "y_train = to_categorical(y_train, num_classes=10) #one hot encoding\n",
        "y_test = to_categorical(y_test, num_classes=10)"
      ],
      "execution_count": 8,
      "outputs": []
    },
    {
      "cell_type": "code",
      "metadata": {
        "colab": {
          "base_uri": "https://localhost:8080/"
        },
        "id": "OarA1kqJyOQx",
        "outputId": "f4b84c07-9850-4bf6-dc32-1dc06d20c670"
      },
      "source": [
        "# image dimensions (assumed square)\n",
        "image_size = x_train.shape[1]\n",
        "input_size = image_size * image_size\n",
        "input_size"
      ],
      "execution_count": 9,
      "outputs": [
        {
          "output_type": "execute_result",
          "data": {
            "text/plain": [
              "784"
            ]
          },
          "metadata": {},
          "execution_count": 9
        }
      ]
    },
    {
      "cell_type": "code",
      "metadata": {
        "colab": {
          "base_uri": "https://localhost:8080/"
        },
        "id": "Fcm2GGKPyOOK",
        "outputId": "cfd348e3-a23e-49cb-e085-7ed7b903ebdd"
      },
      "source": [
        "# resize and normalize\n",
        "x_train = x_train.astype('float32') / 255\n",
        "x_train = x_train.reshape(-1,28,28,1)\n",
        "x_test = x_test.astype('float32') / 255\n",
        "x_test=x_test.reshape(-1,28,28,1)\n",
        "print(x_train.shape)\n",
        "print(x_test.shape)"
      ],
      "execution_count": 10,
      "outputs": [
        {
          "output_type": "stream",
          "name": "stdout",
          "text": [
            "(60000, 28, 28, 1)\n",
            "(10000, 28, 28, 1)\n"
          ]
        }
      ]
    },
    {
      "cell_type": "code",
      "metadata": {
        "id": "QA2hkwWIyOLV"
      },
      "source": [
        "# network parameters\n",
        "batch_size = 128\n",
        "hidden_units = 256\n",
        "dropout = 0.45"
      ],
      "execution_count": 11,
      "outputs": []
    },
    {
      "cell_type": "markdown",
      "metadata": {
        "id": "qe_eW0y4JBlU"
      },
      "source": [
        "Building a simple dense network, using sigmoid, relu, and softmax as activation functions"
      ]
    },
    {
      "cell_type": "code",
      "metadata": {
        "id": "CrfCpniPyOIj"
      },
      "source": [
        "model = Sequential()\n",
        "#\n",
        "model.add(Conv2D(filters = 8, kernel_size = (5,5),padding = 'Same', \n",
        "                 activation ='relu', input_shape = (28,28,1)))\n",
        "model.add(MaxPool2D(pool_size=(2,2)))\n",
        "model.add(Dropout(0.25))\n",
        "#\n",
        "model.add(Conv2D(filters = 16, kernel_size = (3,3),padding = 'Same', \n",
        "                 activation ='relu'))\n",
        "model.add(MaxPool2D(pool_size=(2,2), strides=(2,2)))\n",
        "model.add(Dropout(0.25))\n",
        "# fully connected\n",
        "model.add(Flatten())\n",
        "model.add(Dense(256, activation = \"sigmoid\"))\n",
        "model.add(Dropout(0.5))\n",
        "model.add(Dense(10, activation = \"softmax\"))"
      ],
      "execution_count": 12,
      "outputs": []
    },
    {
      "cell_type": "code",
      "metadata": {
        "colab": {
          "base_uri": "https://localhost:8080/"
        },
        "id": "1NcKwsb3yOFk",
        "outputId": "f7c58472-a151-4bfe-f1b9-23008614f921"
      },
      "source": [
        "model.summary()"
      ],
      "execution_count": 13,
      "outputs": [
        {
          "output_type": "stream",
          "name": "stdout",
          "text": [
            "Model: \"sequential\"\n",
            "_________________________________________________________________\n",
            "Layer (type)                 Output Shape              Param #   \n",
            "=================================================================\n",
            "conv2d (Conv2D)              (None, 28, 28, 8)         208       \n",
            "_________________________________________________________________\n",
            "max_pooling2d (MaxPooling2D) (None, 14, 14, 8)         0         \n",
            "_________________________________________________________________\n",
            "dropout (Dropout)            (None, 14, 14, 8)         0         \n",
            "_________________________________________________________________\n",
            "conv2d_1 (Conv2D)            (None, 14, 14, 16)        1168      \n",
            "_________________________________________________________________\n",
            "max_pooling2d_1 (MaxPooling2 (None, 7, 7, 16)          0         \n",
            "_________________________________________________________________\n",
            "dropout_1 (Dropout)          (None, 7, 7, 16)          0         \n",
            "_________________________________________________________________\n",
            "flatten (Flatten)            (None, 784)               0         \n",
            "_________________________________________________________________\n",
            "dense (Dense)                (None, 256)               200960    \n",
            "_________________________________________________________________\n",
            "dropout_2 (Dropout)          (None, 256)               0         \n",
            "_________________________________________________________________\n",
            "dense_1 (Dense)              (None, 10)                2570      \n",
            "=================================================================\n",
            "Total params: 204,906\n",
            "Trainable params: 204,906\n",
            "Non-trainable params: 0\n",
            "_________________________________________________________________\n"
          ]
        }
      ]
    },
    {
      "cell_type": "code",
      "metadata": {
        "colab": {
          "base_uri": "https://localhost:8080/"
        },
        "id": "a76w4EEfyOCo",
        "outputId": "ffb76425-fbb0-40b4-dae5-b44ad21fa3c2"
      },
      "source": [
        "# Defining the Adams optimizer\n",
        "adam = Adam(lr=0.001, beta_1=0.9, beta_2=0.999)"
      ],
      "execution_count": 14,
      "outputs": [
        {
          "output_type": "stream",
          "name": "stderr",
          "text": [
            "/usr/local/lib/python3.7/dist-packages/keras/optimizer_v2/optimizer_v2.py:356: UserWarning: The `lr` argument is deprecated, use `learning_rate` instead.\n",
            "  \"The `lr` argument is deprecated, use `learning_rate` instead.\")\n"
          ]
        }
      ]
    },
    {
      "cell_type": "code",
      "metadata": {
        "id": "09gjULslHH2i"
      },
      "source": [
        "datagen = ImageDataGenerator(\n",
        "        featurewise_center=False,  # set input mean to 0 over the dataset\n",
        "        samplewise_center=False,  # set each sample mean to 0\n",
        "        featurewise_std_normalization=False,  # divide inputs by std of the dataset\n",
        "        samplewise_std_normalization=False,  # divide each input by its std\n",
        "        zca_whitening=False,  # dimesion reduction\n",
        "        rotation_range=5,  # randomly rotate images in the range 5 degrees\n",
        "        zoom_range = 0.1, # Randomly zoom image 10%\n",
        "        width_shift_range=0.1,  # randomly shift images horizontally 10%\n",
        "        height_shift_range=0.1,  # randomly shift images vertically 10%\n",
        "        horizontal_flip=False,  # randomly flip images\n",
        "        vertical_flip=False)  # randomly flip images\n",
        "datagen.fit(x_train)"
      ],
      "execution_count": 15,
      "outputs": []
    },
    {
      "cell_type": "code",
      "metadata": {
        "id": "kTWCa43Y3sRd"
      },
      "source": [
        "# Compile the model\n",
        "model.compile(optimizer = adam , loss = \"categorical_crossentropy\", metrics=[\"accuracy\"])"
      ],
      "execution_count": 16,
      "outputs": []
    },
    {
      "cell_type": "code",
      "metadata": {
        "colab": {
          "base_uri": "https://localhost:8080/"
        },
        "id": "HOJCL2C850qe",
        "outputId": "d5b6aff5-b46e-4b95-de04-c0293e5f1dab"
      },
      "source": [
        "#fiiting the model\n",
        "history = model.fit_generator(datagen.flow(x_train,y_train, batch_size=batch_size),\n",
        "                              epochs = 10, validation_data = (x_test,y_test), steps_per_epoch=x_train.shape[0] // batch_size)"
      ],
      "execution_count": 17,
      "outputs": [
        {
          "output_type": "stream",
          "name": "stderr",
          "text": [
            "/usr/local/lib/python3.7/dist-packages/keras/engine/training.py:1972: UserWarning: `Model.fit_generator` is deprecated and will be removed in a future version. Please use `Model.fit`, which supports generators.\n",
            "  warnings.warn('`Model.fit_generator` is deprecated and '\n"
          ]
        },
        {
          "output_type": "stream",
          "name": "stdout",
          "text": [
            "Epoch 1/10\n",
            "468/468 [==============================] - 57s 57ms/step - loss: 0.8863 - accuracy: 0.7087 - val_loss: 0.1635 - val_accuracy: 0.9557\n",
            "Epoch 2/10\n",
            "468/468 [==============================] - 26s 56ms/step - loss: 0.3505 - accuracy: 0.8928 - val_loss: 0.1017 - val_accuracy: 0.9693\n",
            "Epoch 3/10\n",
            "468/468 [==============================] - 27s 57ms/step - loss: 0.2673 - accuracy: 0.9194 - val_loss: 0.0843 - val_accuracy: 0.9736\n",
            "Epoch 4/10\n",
            "468/468 [==============================] - 26s 56ms/step - loss: 0.2261 - accuracy: 0.9319 - val_loss: 0.0734 - val_accuracy: 0.9758\n",
            "Epoch 5/10\n",
            "468/468 [==============================] - 26s 56ms/step - loss: 0.2015 - accuracy: 0.9388 - val_loss: 0.0612 - val_accuracy: 0.9804\n",
            "Epoch 6/10\n",
            "468/468 [==============================] - 27s 57ms/step - loss: 0.1867 - accuracy: 0.9429 - val_loss: 0.0574 - val_accuracy: 0.9823\n",
            "Epoch 7/10\n",
            "468/468 [==============================] - 26s 55ms/step - loss: 0.1736 - accuracy: 0.9480 - val_loss: 0.0506 - val_accuracy: 0.9842\n",
            "Epoch 8/10\n",
            "468/468 [==============================] - 26s 56ms/step - loss: 0.1645 - accuracy: 0.9494 - val_loss: 0.0481 - val_accuracy: 0.9838\n",
            "Epoch 9/10\n",
            "468/468 [==============================] - 26s 56ms/step - loss: 0.1537 - accuracy: 0.9536 - val_loss: 0.0449 - val_accuracy: 0.9860\n",
            "Epoch 10/10\n",
            "468/468 [==============================] - 27s 57ms/step - loss: 0.1498 - accuracy: 0.9545 - val_loss: 0.0463 - val_accuracy: 0.9854\n"
          ]
        }
      ]
    },
    {
      "cell_type": "code",
      "metadata": {
        "colab": {
          "base_uri": "https://localhost:8080/"
        },
        "id": "7pipqwBOLrAl",
        "outputId": "335a5ac2-e3c5-42a3-d8bb-3073767407a5"
      },
      "source": [
        "#displaying the accuracy\n",
        "score = model.evaluate(x_test,y_test)\n",
        "print(\"Accuracy:\",score[1]*100)"
      ],
      "execution_count": 18,
      "outputs": [
        {
          "output_type": "stream",
          "name": "stdout",
          "text": [
            "313/313 [==============================] - 1s 4ms/step - loss: 0.0463 - accuracy: 0.9854\n",
            "Accuracy: 98.54000210762024\n"
          ]
        }
      ]
    },
    {
      "cell_type": "markdown",
      "metadata": {
        "id": "NcJIKV5cIdyA"
      },
      "source": [
        "Plotting loss as a function of number of epoch \n",
        "\n"
      ]
    },
    {
      "cell_type": "code",
      "metadata": {
        "id": "XWluDTel50c1"
      },
      "source": [
        "# Plot the loss and accuracy curves for training and validation \n",
        "plt.plot(history.history['val_loss'], color='b', label=\"validation loss\")\n",
        "plt.title(\"Test Loss\")\n",
        "plt.xlabel(\"Number of Epochs\")\n",
        "plt.ylabel(\"Loss\")\n",
        "plt.legend()\n",
        "plt.show()"
      ],
      "execution_count": null,
      "outputs": []
    },
    {
      "cell_type": "code",
      "metadata": {
        "colab": {
          "base_uri": "https://localhost:8080/",
          "height": 513
        },
        "id": "rLJXpo499eXY",
        "outputId": "46748917-0e6e-458d-a7ba-e33d66be67c3"
      },
      "source": [
        "# confusion matrix\n",
        "import seaborn as sns\n",
        "# Predict the values from the validation dataset\n",
        "y_pred = model.predict(x_test)\n",
        "# Convert predictions classes to one hot vectors \n",
        "y_pred_classes = np.argmax(y_pred,axis = 1) \n",
        "# Convert validation observations to one hot vectors\n",
        "y_true = np.argmax(y_test,axis = 1) \n",
        "# compute the confusion matrix\n",
        "confusion_mtx = confusion_matrix(y_true, y_pred_classes) \n",
        "# plot the confusion matrix\n",
        "f,ax = plt.subplots(figsize=(8, 8))\n",
        "sns.heatmap(confusion_mtx, annot=True, linewidths=0.01,cmap=\"Greens\",linecolor=\"gray\", fmt= '.1f',ax=ax)\n",
        "plt.xlabel(\"Predicted Label\")\n",
        "plt.ylabel(\"True Label\")\n",
        "plt.title(\"Confusion Matrix\")\n",
        "plt.show()"
      ],
      "execution_count": 20,
      "outputs": [
        {
          "output_type": "display_data",
          "data": {
            "image/png": "[encoded data removed]",
            "text/plain": [
              "<Figure size 576x576 with 2 Axes>"
            ]
          },
          "metadata": {
            "needs_background": "light"
          }
        }
      ]
    },
    {
      "cell_type": "code",
      "metadata": {
        "colab": {
          "base_uri": "https://localhost:8080/"
        },
        "id": "oW4p45UOKm_R",
        "outputId": "7c9457f2-bc0f-461b-8c1e-b74862b5838a"
      },
      "source": [
        "#the loss function\n",
        "loss_fn = tf.keras.losses.MeanSquaredError(reduction='none')\n",
        "loss_fn(tf.ones((2, 2,)), tf.zeros((2, 2)))"
      ],
      "execution_count": 21,
      "outputs": [
        {
          "output_type": "execute_result",
          "data": {
            "text/plain": [
              "<tf.Tensor: shape=(2,), dtype=float32, numpy=array([1., 1.], dtype=float32)>"
            ]
          },
          "metadata": {},
          "execution_count": 21
        }
      ]
    },
    {
      "cell_type": "code",
      "metadata": {
        "colab": {
          "base_uri": "https://localhost:8080/"
        },
        "id": "RU82QeKNYLmy",
        "outputId": "94e3c1c3-8f0d-4b84-ab10-56e068f0a520"
      },
      "source": [
        "#setting the callbacks and earlystop in the model\n",
        "checkpoint_path= r\"/n\" #setting a local path in the collab\n",
        "from tensorflow.keras.callbacks import EarlyStopping, ModelCheckpoint\n",
        "checkpoint = ModelCheckpoint(checkpoint_path,monitor='val_loss',mode='min',save_best_only=True,verbose=1)\n",
        "callbacks_list = [checkpoint]\n",
        "keras_callbacks = [EarlyStopping(monitor='val_loss', patience=30, mode='min', min_delta=0.0001),\n",
        "      ModelCheckpoint(checkpoint_path, monitor='val_loss', save_best_only=True, mode='min')]\n",
        "earlystop = EarlyStopping(monitor = 'val_loss',min_delta = 0,patience = 3, verbose = 1,restore_best_weights = True)\n",
        "model.fit(x_train, y_train,batch_size=batch_size, epochs=100, validation_split=0.2,callbacks=[earlystop,checkpoint])\n"
      ],
      "execution_count": 22,
      "outputs": [
        {
          "output_type": "stream",
          "name": "stdout",
          "text": [
            "Epoch 1/100\n",
            "375/375 [==============================] - 4s 9ms/step - loss: 0.0950 - accuracy: 0.9710 - val_loss: 0.0409 - val_accuracy: 0.9879\n",
            "\n",
            "Epoch 00001: val_loss improved from inf to 0.04092, saving model to /n\n",
            "INFO:tensorflow:Assets written to: /n/assets\n",
            "Epoch 2/100\n",
            "375/375 [==============================] - 3s 8ms/step - loss: 0.0844 - accuracy: 0.9738 - val_loss: 0.0351 - val_accuracy: 0.9897\n",
            "\n",
            "Epoch 00002: val_loss improved from 0.04092 to 0.03512, saving model to /n\n",
            "INFO:tensorflow:Assets written to: /n/assets\n",
            "Epoch 3/100\n",
            "375/375 [==============================] - 3s 8ms/step - loss: 0.0782 - accuracy: 0.9754 - val_loss: 0.0365 - val_accuracy: 0.9891\n",
            "\n",
            "Epoch 00003: val_loss did not improve from 0.03512\n",
            "Epoch 4/100\n",
            "375/375 [==============================] - 3s 8ms/step - loss: 0.0747 - accuracy: 0.9762 - val_loss: 0.0358 - val_accuracy: 0.9894\n",
            "\n",
            "Epoch 00004: val_loss did not improve from 0.03512\n",
            "Epoch 5/100\n",
            "375/375 [==============================] - 3s 9ms/step - loss: 0.0725 - accuracy: 0.9776 - val_loss: 0.0336 - val_accuracy: 0.9901\n",
            "\n",
            "Epoch 00005: val_loss improved from 0.03512 to 0.03364, saving model to /n\n",
            "INFO:tensorflow:Assets written to: /n/assets\n",
            "Epoch 6/100\n",
            "375/375 [==============================] - 3s 8ms/step - loss: 0.0657 - accuracy: 0.9794 - val_loss: 0.0350 - val_accuracy: 0.9900\n",
            "\n",
            "Epoch 00006: val_loss did not improve from 0.03364\n",
            "Epoch 7/100\n",
            "375/375 [==============================] - 3s 9ms/step - loss: 0.0666 - accuracy: 0.9786 - val_loss: 0.0331 - val_accuracy: 0.9906\n",
            "\n",
            "Epoch 00007: val_loss improved from 0.03364 to 0.03312, saving model to /n\n",
            "INFO:tensorflow:Assets written to: /n/assets\n",
            "Epoch 8/100\n",
            "375/375 [==============================] - 3s 8ms/step - loss: 0.0619 - accuracy: 0.9806 - val_loss: 0.0340 - val_accuracy: 0.9896\n",
            "\n",
            "Epoch 00008: val_loss did not improve from 0.03312\n",
            "Epoch 9/100\n",
            "375/375 [==============================] - 3s 9ms/step - loss: 0.0625 - accuracy: 0.9806 - val_loss: 0.0332 - val_accuracy: 0.9898\n",
            "\n",
            "Epoch 00009: val_loss did not improve from 0.03312\n",
            "Epoch 10/100\n",
            "375/375 [==============================] - 3s 8ms/step - loss: 0.0606 - accuracy: 0.9813 - val_loss: 0.0329 - val_accuracy: 0.9902\n",
            "\n",
            "Epoch 00010: val_loss improved from 0.03312 to 0.03295, saving model to /n\n",
            "INFO:tensorflow:Assets written to: /n/assets\n",
            "Epoch 11/100\n",
            "375/375 [==============================] - 4s 9ms/step - loss: 0.0569 - accuracy: 0.9821 - val_loss: 0.0319 - val_accuracy: 0.9898\n",
            "\n",
            "Epoch 00011: val_loss improved from 0.03295 to 0.03189, saving model to /n\n",
            "INFO:tensorflow:Assets written to: /n/assets\n",
            "Epoch 12/100\n",
            "375/375 [==============================] - 3s 9ms/step - loss: 0.0546 - accuracy: 0.9826 - val_loss: 0.0305 - val_accuracy: 0.9909\n",
            "\n",
            "Epoch 00012: val_loss improved from 0.03189 to 0.03048, saving model to /n\n",
            "INFO:tensorflow:Assets written to: /n/assets\n",
            "Epoch 13/100\n",
            "375/375 [==============================] - 4s 9ms/step - loss: 0.0533 - accuracy: 0.9833 - val_loss: 0.0325 - val_accuracy: 0.9909\n",
            "\n",
            "Epoch 00013: val_loss did not improve from 0.03048\n",
            "Epoch 14/100\n",
            "375/375 [==============================] - 3s 9ms/step - loss: 0.0530 - accuracy: 0.9825 - val_loss: 0.0306 - val_accuracy: 0.9910\n",
            "\n",
            "Epoch 00014: val_loss did not improve from 0.03048\n",
            "Epoch 15/100\n",
            "375/375 [==============================] - 3s 9ms/step - loss: 0.0510 - accuracy: 0.9840 - val_loss: 0.0326 - val_accuracy: 0.9908\n",
            "Restoring model weights from the end of the best epoch.\n",
            "\n",
            "Epoch 00015: val_loss did not improve from 0.03048\n",
            "Epoch 00015: early stopping\n"
          ]
        },
        {
          "output_type": "execute_result",
          "data": {
            "text/plain": [
              "<keras.callbacks.History at 0x7f05c938b0d0>"
            ]
          },
          "metadata": {},
          "execution_count": 22
        }
      ]
    },
    {
      "cell_type": "code",
      "metadata": {
        "colab": {
          "base_uri": "https://localhost:8080/"
        },
        "id": "8RE2QQulIc0b",
        "outputId": "103eb0b7-795f-4d9e-c238-89fc9f26c4d3"
      },
      "source": [
        "#printing the latest test and train accuracy\n",
        "train_acc=model.evaluate(x_train, y_train,verbose=0)\n",
        "test_acc=model.evaluate(x_test, y_test,verbose=0)\n",
        "print('Train Accuracy: %.3f, Test Accuracy: %.3f' % (train_acc[1]*100, test_acc[1]*100))"
      ],
      "execution_count": 23,
      "outputs": [
        {
          "output_type": "stream",
          "name": "stdout",
          "text": [
            "Train Accuracy: 99.343, Test Accuracy: 98.990\n"
          ]
        }
      ]
    },
    {
      "cell_type": "markdown",
      "metadata": {
        "id": "0aTPA4OFn2He"
      },
      "source": [
        "Compiling losses, using various optimizers"
      ]
    },
    {
      "cell_type": "code",
      "metadata": {
        "colab": {
          "base_uri": "https://localhost:8080/"
        },
        "id": "_gUiNPU6Km6e",
        "outputId": "dd8399d0-c6d0-4055-a560-76482a85029f"
      },
      "source": [
        "#using adagrad optimizer\n",
        "adagrad = tf.keras.optimizers.Adagrad(learning_rate=0.001,initial_accumulator_value=0.1,epsilon=1e-07,name=\"Adagrad\")\n",
        "model.compile(optimizer = adagrad , loss = \"categorical_crossentropy\", metrics=[\"accuracy\"])\n",
        "history = model.fit_generator(datagen.flow(x_train,y_train, batch_size=batch_size),\n",
        "                              epochs = 5, validation_data = (x_test,y_test), steps_per_epoch=x_train.shape[0] // batch_size)"
      ],
      "execution_count": 27,
      "outputs": [
        {
          "output_type": "stream",
          "name": "stderr",
          "text": [
            "/usr/local/lib/python3.7/dist-packages/keras/engine/training.py:1972: UserWarning: `Model.fit_generator` is deprecated and will be removed in a future version. Please use `Model.fit`, which supports generators.\n",
            "  warnings.warn('`Model.fit_generator` is deprecated and '\n"
          ]
        },
        {
          "output_type": "stream",
          "name": "stdout",
          "text": [
            "Epoch 1/10\n",
            "468/468 [==============================] - 27s 57ms/step - loss: 0.2365 - accuracy: 0.9282 - val_loss: 0.0270 - val_accuracy: 0.9903\n",
            "Epoch 2/10\n",
            "468/468 [==============================] - 27s 57ms/step - loss: 0.2220 - accuracy: 0.9315 - val_loss: 0.0270 - val_accuracy: 0.9903\n",
            "Epoch 3/10\n",
            "468/468 [==============================] - 27s 58ms/step - loss: 0.2142 - accuracy: 0.9348 - val_loss: 0.0269 - val_accuracy: 0.9903\n",
            "Epoch 4/10\n",
            "468/468 [==============================] - 27s 58ms/step - loss: 0.2082 - accuracy: 0.9359 - val_loss: 0.0268 - val_accuracy: 0.9906\n",
            "Epoch 5/10\n",
            "468/468 [==============================] - 27s 57ms/step - loss: 0.2052 - accuracy: 0.9371 - val_loss: 0.0268 - val_accuracy: 0.9906\n",
            "Epoch 6/10\n",
            "468/468 [==============================] - 26s 56ms/step - loss: 0.1995 - accuracy: 0.9399 - val_loss: 0.0266 - val_accuracy: 0.9910\n",
            "Epoch 7/10\n",
            "468/468 [==============================] - 27s 58ms/step - loss: 0.1940 - accuracy: 0.9411 - val_loss: 0.0266 - val_accuracy: 0.9908\n",
            "Epoch 8/10\n",
            "468/468 [==============================] - 27s 58ms/step - loss: 0.1944 - accuracy: 0.9402 - val_loss: 0.0265 - val_accuracy: 0.9910\n",
            "Epoch 9/10\n",
            "468/468 [==============================] - 26s 57ms/step - loss: 0.1932 - accuracy: 0.9414 - val_loss: 0.0266 - val_accuracy: 0.9909\n",
            "Epoch 10/10\n",
            "468/468 [==============================] - 27s 58ms/step - loss: 0.1882 - accuracy: 0.9422 - val_loss: 0.0266 - val_accuracy: 0.9910\n"
          ]
        }
      ]
    },
    {
      "cell_type": "code",
      "metadata": {
        "colab": {
          "base_uri": "https://localhost:8080/"
        },
        "id": "bcYCtCCkYKzL",
        "outputId": "bcee45ec-5eb7-4eaf-f577-bf7dd1de8f73"
      },
      "source": [
        "#using RMSprop optimizer\n",
        "RMSprop = tf.keras.optimizers.RMSprop(learning_rate=0.001,rho=0.9, momentum=0.0, epsilon=1e-07, centered=False,name='RMSprop') \n",
        "model.compile(optimizer = adagrad , loss = \"categorical_crossentropy\", metrics=[\"accuracy\"])\n",
        "history = model.fit_generator(datagen.flow(x_train,y_train, batch_size=batch_size),\n",
        "                              epochs = 5, validation_data = (x_test,y_test), steps_per_epoch=x_train.shape[0] // batch_size)"
      ],
      "execution_count": 29,
      "outputs": [
        {
          "output_type": "stream",
          "name": "stderr",
          "text": [
            "/usr/local/lib/python3.7/dist-packages/keras/engine/training.py:1972: UserWarning: `Model.fit_generator` is deprecated and will be removed in a future version. Please use `Model.fit`, which supports generators.\n",
            "  warnings.warn('`Model.fit_generator` is deprecated and '\n"
          ]
        },
        {
          "output_type": "stream",
          "name": "stdout",
          "text": [
            "Epoch 1/5\n",
            "468/468 [==============================] - 27s 57ms/step - loss: 0.1813 - accuracy: 0.9433 - val_loss: 0.0265 - val_accuracy: 0.9908\n",
            "Epoch 2/5\n",
            "468/468 [==============================] - 26s 56ms/step - loss: 0.1844 - accuracy: 0.9435 - val_loss: 0.0265 - val_accuracy: 0.9910\n",
            "Epoch 3/5\n",
            "468/468 [==============================] - 27s 57ms/step - loss: 0.1831 - accuracy: 0.9436 - val_loss: 0.0265 - val_accuracy: 0.9912\n",
            "Epoch 4/5\n",
            "468/468 [==============================] - 27s 57ms/step - loss: 0.1796 - accuracy: 0.9452 - val_loss: 0.0266 - val_accuracy: 0.9910\n",
            "Epoch 5/5\n",
            "468/468 [==============================] - 26s 56ms/step - loss: 0.1799 - accuracy: 0.9453 - val_loss: 0.0265 - val_accuracy: 0.9913\n"
          ]
        }
      ]
    },
    {
      "cell_type": "code",
      "metadata": {
        "colab": {
          "base_uri": "https://localhost:8080/"
        },
        "id": "Adkcm02TYKuA",
        "outputId": "36929fb9-adfe-41b9-990c-0aae525b8cb6"
      },
      "source": [
        "#using SGD optimizer\n",
        "SGD=tf.keras.optimizers.SGD(learning_rate=0.01,momentum=0.0,nesterov=False, name=\"SGD\")\n",
        "model.compile(optimizer = adagrad , loss = \"categorical_crossentropy\", metrics=[\"accuracy\"])\n",
        "history = model.fit_generator(datagen.flow(x_train,y_train, batch_size=batch_size),\n",
        "                              epochs = 5, validation_data = (x_test,y_test), steps_per_epoch=x_train.shape[0] // batch_size)"
      ],
      "execution_count": 30,
      "outputs": [
        {
          "output_type": "stream",
          "name": "stderr",
          "text": [
            "/usr/local/lib/python3.7/dist-packages/keras/engine/training.py:1972: UserWarning: `Model.fit_generator` is deprecated and will be removed in a future version. Please use `Model.fit`, which supports generators.\n",
            "  warnings.warn('`Model.fit_generator` is deprecated and '\n"
          ]
        },
        {
          "output_type": "stream",
          "name": "stdout",
          "text": [
            "Epoch 1/5\n",
            "468/468 [==============================] - 27s 57ms/step - loss: 0.1775 - accuracy: 0.9458 - val_loss: 0.0265 - val_accuracy: 0.9913\n",
            "Epoch 2/5\n",
            "468/468 [==============================] - 27s 57ms/step - loss: 0.1765 - accuracy: 0.9470 - val_loss: 0.0265 - val_accuracy: 0.9913\n",
            "Epoch 3/5\n",
            "468/468 [==============================] - 26s 56ms/step - loss: 0.1738 - accuracy: 0.9470 - val_loss: 0.0266 - val_accuracy: 0.9912\n",
            "Epoch 4/5\n",
            "468/468 [==============================] - 27s 57ms/step - loss: 0.1716 - accuracy: 0.9461 - val_loss: 0.0266 - val_accuracy: 0.9914\n",
            "Epoch 5/5\n",
            "468/468 [==============================] - 26s 56ms/step - loss: 0.1739 - accuracy: 0.9460 - val_loss: 0.0266 - val_accuracy: 0.9914\n"
          ]
        }
      ]
    },
    {
      "cell_type": "code",
      "metadata": {
        "id": "hmZw0UdXYKiq"
      },
      "source": [
        ""
      ],
      "execution_count": 23,
      "outputs": []
    },
    {
      "cell_type": "code",
      "metadata": {
        "id": "pJnaXAcIKm3n"
      },
      "source": [
        "class LearningRateDecay:\n",
        "\tdef plot(self, epochs, title=\"Learning Rate Schedule\"):\n",
        "\t\t# compute the set of learning rates for each corresponding\n",
        "\t\t# epoch\n",
        "\t\tlrs = [self(i) for i in epochs]\n",
        "\t\t# the learning rate schedule\n",
        "\t\tplt.style.use(\"ggplot\")\n",
        "\t\tplt.figure()\n",
        "\t\tplt.plot(epochs, lrs)\n",
        "\t\tplt.title(title)\n",
        "\t\tplt.xlabel(\"Epoch #\")\n",
        "\t\tplt.ylabel(\"Learning Rate\")"
      ],
      "execution_count": 31,
      "outputs": []
    },
    {
      "cell_type": "code",
      "metadata": {
        "colab": {
          "base_uri": "https://localhost:8080/"
        },
        "id": "7Adkx4OMoES0",
        "outputId": "5764f90d-2081-4ab0-d402-e1747d48a10a"
      },
      "source": [
        "def my_learning_rate(epoch, lrate):\n",
        "\treturn lrate\n",
        "lrs = LearningRateScheduler(my_learning_rate)\n",
        "history=model.fit(x_train, y_train,batch_size=batch_size, epochs=5, validation_split=0.2,callbacks=[earlystop,checkpoint,lrs])\n"
      ],
      "execution_count": 65,
      "outputs": [
        {
          "output_type": "stream",
          "name": "stdout",
          "text": [
            "Epoch 1/5\n",
            "375/375 [==============================] - 3s 9ms/step - loss: 0.0489 - accuracy: 0.9844 - val_loss: 0.0297 - val_accuracy: 0.9906\n",
            "\n",
            "Epoch 00001: val_loss improved from 0.02971 to 0.02970, saving model to /n\n",
            "INFO:tensorflow:Assets written to: /n/assets\n",
            "Epoch 2/5\n",
            "375/375 [==============================] - 3s 9ms/step - loss: 0.0513 - accuracy: 0.9840 - val_loss: 0.0297 - val_accuracy: 0.9906\n",
            "\n",
            "Epoch 00002: val_loss improved from 0.02970 to 0.02966, saving model to /n\n",
            "INFO:tensorflow:Assets written to: /n/assets\n",
            "Epoch 3/5\n",
            "375/375 [==============================] - 3s 9ms/step - loss: 0.0475 - accuracy: 0.9851 - val_loss: 0.0297 - val_accuracy: 0.9906\n",
            "\n",
            "Epoch 00003: val_loss improved from 0.02966 to 0.02966, saving model to /n\n",
            "INFO:tensorflow:Assets written to: /n/assets\n",
            "Epoch 4/5\n",
            "375/375 [==============================] - 3s 8ms/step - loss: 0.0487 - accuracy: 0.9848 - val_loss: 0.0297 - val_accuracy: 0.9906\n",
            "\n",
            "Epoch 00004: val_loss improved from 0.02966 to 0.02966, saving model to /n\n",
            "INFO:tensorflow:Assets written to: /n/assets\n",
            "Epoch 5/5\n",
            "375/375 [==============================] - 3s 9ms/step - loss: 0.0488 - accuracy: 0.9846 - val_loss: 0.0296 - val_accuracy: 0.9906\n",
            "\n",
            "Epoch 00005: val_loss improved from 0.02966 to 0.02964, saving model to /n\n",
            "INFO:tensorflow:Assets written to: /n/assets\n"
          ]
        }
      ]
    },
    {
      "cell_type": "code",
      "metadata": {
        "colab": {
          "base_uri": "https://localhost:8080/",
          "height": 265
        },
        "id": "rLevbNWqoJFt",
        "outputId": "7c74ec3e-4be3-4d81-a253-c8f8e5298a94"
      },
      "source": [
        "\n",
        "# learning rate decay\n",
        "def decay_lrate(initial_lrate, decay, iteration):\n",
        "\treturn initial_lrate * (1.0 / (1.0 + decay * iteration))\n",
        "decays = [1E-1, 1E-2, 1E-3, 1E-4]\n",
        "lrate = 0.01\n",
        "n_updates = 200\n",
        "for decay in decays:\n",
        "\t# calculate learning rates for updates\n",
        "\tlrates = [decay_lrate(lrate, decay, i) for i in range(n_updates)]\n",
        "\t# plot result\n",
        "\tplt.plot(lrates, label=str(decay))\n",
        "plt.legend()\n",
        "plt.show()\n",
        "SGD=tf.keras.optimizers.SGD(learning_rate=0.01,momentum=0.0,nesterov=False, name=\"SGD\")\n",
        "model.compile(optimizer = adagrad , loss = \"categorical_crossentropy\", metrics=[\"accuracy\"])\n",
        "history = model.fit_generator(datagen.flow(x_train,y_train, batch_size=batch_size),\n",
        "                              epochs = 5, validation_data = (x_test,y_test), steps_per_epoch=x_train.shape[0] // batch_size)"
      ],
      "execution_count": 76,
      "outputs": [
        {
          "output_type": "display_data",
          "data": {
            "image/png": "[encoded data removed]",
            "text/plain": [
              "<Figure size 432x288 with 1 Axes>"
            ]
          },
          "metadata": {
            "needs_background": "light"
          }
        }
      ]
    },
    {
      "cell_type": "markdown",
      "metadata": {
        "id": "lTFzH484ynzw"
      },
      "source": [
        "Learning rate"
      ]
    },
    {
      "cell_type": "code",
      "metadata": {
        "colab": {
          "base_uri": "https://localhost:8080/"
        },
        "id": "Iad6EIWbv275",
        "outputId": "668a0cba-3a39-422c-bc9f-7cb81ad3182e"
      },
      "source": [
        "def exp_decay(epoch):\n",
        "    lr = learningRate * np.exp(-decay_rate*epoch)\n",
        "    return lrate\n",
        "lr_rate = LearningRateScheduler(exp_decay)\n",
        "checkpoint_path=r\"\\n\"\n",
        "checkpoint = ModelCheckpoint(checkpoint_path,monitor='val_loss',mode='min',save_best_only=True,verbose=1)\n",
        "keras_callbacks = [EarlyStopping(monitor='val_loss', patience=30, mode='min', min_delta=0.0001),\n",
        "      ModelCheckpoint(checkpoint_path, monitor='val_loss', save_best_only=True, mode='min')]\n",
        "earlystop = EarlyStopping(monitor = 'val_loss',min_delta = 0,patience = 3, verbose = 1,restore_best_weights = True)\n",
        "model.fit(x_train, y_train,batch_size=batch_size, epochs=100, validation_split=0.2,callbacks=[earlystop,checkpoint,lr_rate])\n"
      ],
      "execution_count": 97,
      "outputs": [
        {
          "output_type": "stream",
          "name": "stdout",
          "text": [
            "Epoch 1/100\n",
            "375/375 [==============================] - 4s 9ms/step - loss: 0.1760 - accuracy: 0.9464 - val_loss: 0.0614 - val_accuracy: 0.9816\n",
            "\n",
            "Epoch 00001: val_loss improved from inf to 0.06138, saving model to \\n\n",
            "INFO:tensorflow:Assets written to: \\n/assets\n",
            "Epoch 2/100\n",
            "375/375 [==============================] - 3s 9ms/step - loss: 0.1515 - accuracy: 0.9555 - val_loss: 0.0549 - val_accuracy: 0.9841\n",
            "\n",
            "Epoch 00002: val_loss improved from 0.06138 to 0.05485, saving model to \\n\n",
            "INFO:tensorflow:Assets written to: \\n/assets\n",
            "Epoch 3/100\n",
            "375/375 [==============================] - 3s 9ms/step - loss: 0.1483 - accuracy: 0.9573 - val_loss: 0.0502 - val_accuracy: 0.9847\n",
            "\n",
            "Epoch 00003: val_loss improved from 0.05485 to 0.05023, saving model to \\n\n",
            "INFO:tensorflow:Assets written to: \\n/assets\n",
            "Epoch 4/100\n",
            "375/375 [==============================] - 3s 8ms/step - loss: 0.1383 - accuracy: 0.9580 - val_loss: 0.0534 - val_accuracy: 0.9853\n",
            "\n",
            "Epoch 00004: val_loss did not improve from 0.05023\n",
            "Epoch 5/100\n",
            "375/375 [==============================] - 3s 8ms/step - loss: 0.1453 - accuracy: 0.9575 - val_loss: 0.0577 - val_accuracy: 0.9847\n",
            "\n",
            "Epoch 00005: val_loss did not improve from 0.05023\n",
            "Epoch 6/100\n",
            "375/375 [==============================] - 3s 9ms/step - loss: 0.1414 - accuracy: 0.9582 - val_loss: 0.0581 - val_accuracy: 0.9829\n",
            "Restoring model weights from the end of the best epoch.\n",
            "\n",
            "Epoch 00006: val_loss did not improve from 0.05023\n",
            "Epoch 00006: early stopping\n"
          ]
        },
        {
          "output_type": "execute_result",
          "data": {
            "text/plain": [
              "<keras.callbacks.History at 0x7f05474c8c50>"
            ]
          },
          "metadata": {},
          "execution_count": 97
        }
      ]
    },
    {
      "cell_type": "code",
      "metadata": {
        "colab": {
          "base_uri": "https://localhost:8080/",
          "height": 446
        },
        "id": "cEFowv8Mx6X8",
        "outputId": "800732a2-2f88-441e-afc1-d882879c3387"
      },
      "source": [
        "plt.plot(history.history['loss'], label='Loss')\n",
        "plt.plot(lr, label='Learning Rate')\n",
        "plt.title('lrate='+str(lrate), pad=-50)"
      ],
      "execution_count": 116,
      "outputs": [
        {
          "output_type": "error",
          "ename": "NameError",
          "evalue": "ignored",
          "traceback": [
            "\u001b[0;31m---------------------------------------------------------------------------\u001b[0m",
            "\u001b[0;31mNameError\u001b[0m                                 Traceback (most recent call last)",
            "\u001b[0;32m<ipython-input-116-fc497f1d1c31>\u001b[0m in \u001b[0;36m<module>\u001b[0;34m()\u001b[0m\n\u001b[1;32m      1\u001b[0m \u001b[0mplt\u001b[0m\u001b[0;34m.\u001b[0m\u001b[0mplot\u001b[0m\u001b[0;34m(\u001b[0m\u001b[0mhistory\u001b[0m\u001b[0;34m.\u001b[0m\u001b[0mhistory\u001b[0m\u001b[0;34m[\u001b[0m\u001b[0;34m'loss'\u001b[0m\u001b[0;34m]\u001b[0m\u001b[0;34m,\u001b[0m \u001b[0mlabel\u001b[0m\u001b[0;34m=\u001b[0m\u001b[0;34m'Loss'\u001b[0m\u001b[0;34m)\u001b[0m\u001b[0;34m\u001b[0m\u001b[0;34m\u001b[0m\u001b[0m\n\u001b[0;32m----> 2\u001b[0;31m \u001b[0mplt\u001b[0m\u001b[0;34m.\u001b[0m\u001b[0mplot\u001b[0m\u001b[0;34m(\u001b[0m\u001b[0mlr\u001b[0m\u001b[0;34m,\u001b[0m \u001b[0mlabel\u001b[0m\u001b[0;34m=\u001b[0m\u001b[0;34m'Learning Rate'\u001b[0m\u001b[0;34m)\u001b[0m\u001b[0;34m\u001b[0m\u001b[0;34m\u001b[0m\u001b[0m\n\u001b[0m\u001b[1;32m      3\u001b[0m \u001b[0mplt\u001b[0m\u001b[0;34m.\u001b[0m\u001b[0mtitle\u001b[0m\u001b[0;34m(\u001b[0m\u001b[0;34m'lrate='\u001b[0m\u001b[0;34m+\u001b[0m\u001b[0mstr\u001b[0m\u001b[0;34m(\u001b[0m\u001b[0mlrate\u001b[0m\u001b[0;34m)\u001b[0m\u001b[0;34m,\u001b[0m \u001b[0mpad\u001b[0m\u001b[0;34m=\u001b[0m\u001b[0;34m-\u001b[0m\u001b[0;36m50\u001b[0m\u001b[0;34m)\u001b[0m\u001b[0;34m\u001b[0m\u001b[0;34m\u001b[0m\u001b[0m\n",
            "\u001b[0;31mNameError\u001b[0m: name 'lr' is not defined"
          ]
        },
        {
          "output_type": "display_data",
          "data": {
            "image/png": "[encoded data removed]",
            "text/plain": [
              "<Figure size 432x288 with 1 Axes>"
            ]
          },
          "metadata": {
            "needs_background": "light"
          }
        }
      ]
    },
    {
      "cell_type": "code",
      "metadata": {
        "id": "PsNbe9JGyPt4"
      },
      "source": [
        "\n"
      ],
      "execution_count": null,
      "outputs": []
    }
  ]
}