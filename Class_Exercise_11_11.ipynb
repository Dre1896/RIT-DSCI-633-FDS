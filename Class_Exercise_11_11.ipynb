{
  "nbformat": 4,
  "nbformat_minor": 0,
  "metadata": {
    "kernelspec": {
      "display_name": "Python 3",
      "language": "python",
      "name": "python3"
    },
    "language_info": {
      "codemirror_mode": {
        "name": "ipython",
        "version": 3
      },
      "file_extension": ".py",
      "mimetype": "text/x-python",
      "name": "python",
      "nbconvert_exporter": "python",
      "pygments_lexer": "ipython3",
      "version": "3.7.10"
    },
    "nav_menu": {
      "height": "360px",
      "width": "416px"
    },
    "toc": {
      "navigate_menu": true,
      "number_sections": true,
      "sideBar": true,
      "threshold": 6,
      "toc_cell": false,
      "toc_section_display": "block",
      "toc_window_display": false
    },
    "colab": {
      "name": "Class Exercise 11/11.ipynb",
      "provenance": [],
      "collapsed_sections": [
        "NODlyFfnyT2t",
        "gZcjpY7TyT2z"
      ]
    }
  },
  "cells": [
    {
      "cell_type": "markdown",
      "metadata": {
        "id": "oJN5A4eKyT2b"
      },
      "source": [
        "# Setup"
      ]
    },
    {
      "cell_type": "markdown",
      "metadata": {
        "id": "q9uCUBN6yT2c"
      },
      "source": [
        "Import a few common modules"
      ]
    },
    {
      "cell_type": "code",
      "metadata": {
        "id": "R1uvP5vDyT2d",
        "colab": {
          "base_uri": "https://localhost:8080/"
        },
        "outputId": "3a88ac1a-ab81-4e1c-c71f-1e6242df70ab"
      },
      "source": [
        "#CODE for points = 1\n",
        "# import sklearn, numpy, os\n",
        "import sklearn as sk\n",
        "import numpy as np\n",
        "import os\n",
        "\n",
        "# Python ≥3.5 is required\n",
        "import sys\n",
        "assert sys.version_info >= (3, 5)\n",
        "\n",
        "# Scikit-Learn ≥0.20 is required\n",
        "\n",
        "# TensorFlow ≥2.0 is required\n",
        "import tensorflow as tf\n",
        "from tensorflow import keras\n",
        "assert tf.__version__ >= \"2.0\"\n",
        "\n",
        "%load_ext tensorboard\n",
        "\n",
        "\n",
        "\n",
        "# to make this notebook's output stable across runs\n",
        "np.random.seed(42)\n"
      ],
      "execution_count": 2,
      "outputs": [
        {
          "output_type": "stream",
          "name": "stdout",
          "text": [
            "The tensorboard extension is already loaded. To reload it, use:\n",
            "  %reload_ext tensorboard\n"
          ]
        }
      ]
    },
    {
      "cell_type": "markdown",
      "metadata": {
        "id": "jzMYiB0EyT2f"
      },
      "source": [
        "# Vanishing/Exploding Gradients Problem"
      ]
    },
    {
      "cell_type": "code",
      "metadata": {
        "id": "XFRcZCHRyT2g"
      },
      "source": [
        "def logit(z):\n",
        "    return 1 / (1 + np.exp(-z))"
      ],
      "execution_count": 3,
      "outputs": []
    },
    {
      "cell_type": "code",
      "metadata": {
        "id": "Q14TCXqxyT2g"
      },
      "source": [
        "z = np.linspace(-5, 5, 200)"
      ],
      "execution_count": 4,
      "outputs": []
    },
    {
      "cell_type": "markdown",
      "metadata": {
        "id": "jf45uObOyT2i"
      },
      "source": [
        "## Xavier and He Initialization"
      ]
    },
    {
      "cell_type": "code",
      "metadata": {
        "id": "iQqSsCCxyT2j",
        "colab": {
          "base_uri": "https://localhost:8080/"
        },
        "outputId": "3e66704c-196a-478b-fb61-4df8b205deed"
      },
      "source": [
        "#CODE for points = 1\n",
        "# set activation to relu and kernel initializer to he_normal\n",
        "\n",
        "keras.layers.Dense(10, activation='relu', kernel_initializer='he_normal')"
      ],
      "execution_count": 5,
      "outputs": [
        {
          "output_type": "execute_result",
          "data": {
            "text/plain": [
              "<keras.layers.core.dense.Dense at 0x7f9e53c35b50>"
            ]
          },
          "metadata": {},
          "execution_count": 5
        }
      ]
    },
    {
      "cell_type": "markdown",
      "metadata": {
        "id": "VKeun9hyyT2k"
      },
      "source": [
        "### Leaky ReLU"
      ]
    },
    {
      "cell_type": "code",
      "metadata": {
        "id": "c1HuzTv0yT2k"
      },
      "source": [
        "#CODE for points = 1\n",
        "\n",
        "# remember α is the hyperparameter that defines how much the function “leaks”\n",
        "# set the value of alpha, use the value typically set\n",
        "\n",
        "def leaky_relu(z, alpha=0.1):\n",
        "    return np.maximum(alpha*z, z)"
      ],
      "execution_count": 6,
      "outputs": []
    },
    {
      "cell_type": "markdown",
      "metadata": {
        "id": "WUD0kkZdyT2l"
      },
      "source": [
        "Let's train a neural network on Fashion MNIST using the Leaky ReLU:"
      ]
    },
    {
      "cell_type": "code",
      "metadata": {
        "id": "-ijUxHfhyT2m",
        "colab": {
          "base_uri": "https://localhost:8080/"
        },
        "outputId": "c8cf3e23-5190-42a4-91ae-a10ee8f95f45"
      },
      "source": [
        "#CODE for points = 1\n",
        "#load MNIST dataset from keras\n",
        "\n",
        "(X_train_full, y_train_full), (X_test, y_test) = keras.datasets.mnist.load_data()\n",
        "X_train_full = X_train_full / 255.0\n",
        "X_test = X_test / 255.0\n",
        "X_valid, X_train = X_train_full[:5000], X_train_full[5000:]\n",
        "y_valid, y_train = y_train_full[:5000], y_train_full[5000:]"
      ],
      "execution_count": 7,
      "outputs": [
        {
          "output_type": "stream",
          "name": "stdout",
          "text": [
            "Downloading data from https://storage.googleapis.com/tensorflow/tf-keras-datasets/mnist.npz\n",
            "11493376/11490434 [==============================] - 0s 0us/step\n",
            "11501568/11490434 [==============================] - 0s 0us/step\n"
          ]
        }
      ]
    },
    {
      "cell_type": "code",
      "metadata": {
        "id": "GDnaASswyT2m"
      },
      "source": [
        "#CODE for points = 1\n",
        "\n",
        "# initialize kernel_initializer to \"he_normal\" and activation function to softmax\n",
        "\n",
        "tf.random.set_seed(42)\n",
        "np.random.seed(42)\n",
        "\n",
        "model = keras.models.Sequential([\n",
        "    keras.layers.Flatten(input_shape=[28, 28]),\n",
        "    keras.layers.Dense(300, kernel_initializer=\"he_normal\"),\n",
        "    keras.layers.LeakyReLU(),\n",
        "    keras.layers.Dense(100, kernel_initializer=\"he_normal\"),\n",
        "    keras.layers.LeakyReLU(),\n",
        "    keras.layers.Dense(10, activation=\"softmax\")\n",
        "])"
      ],
      "execution_count": 19,
      "outputs": []
    },
    {
      "cell_type": "code",
      "metadata": {
        "id": "2qfd7pXdyT2m"
      },
      "source": [
        "model.compile(loss=\"sparse_categorical_crossentropy\",\n",
        "              optimizer=keras.optimizers.SGD(learning_rate=1e-3),\n",
        "              metrics=[\"accuracy\"])"
      ],
      "execution_count": 21,
      "outputs": []
    },
    {
      "cell_type": "code",
      "metadata": {
        "scrolled": true,
        "id": "nEyLFBtmyT2m",
        "colab": {
          "base_uri": "https://localhost:8080/"
        },
        "outputId": "b6d7cd90-7e17-40d7-9734-e29f9bb1c77e"
      },
      "source": [
        "history = model.fit(X_train, y_train, epochs=5,\n",
        "                    validation_data=(X_valid, y_valid))"
      ],
      "execution_count": 22,
      "outputs": [
        {
          "output_type": "stream",
          "name": "stdout",
          "text": [
            "Epoch 1/5\n",
            "1719/1719 [==============================] - 7s 4ms/step - loss: 1.5275 - accuracy: 0.5970 - val_loss: 0.9444 - val_accuracy: 0.7980\n",
            "Epoch 2/5\n",
            "1719/1719 [==============================] - 6s 4ms/step - loss: 0.7465 - accuracy: 0.8287 - val_loss: 0.5868 - val_accuracy: 0.8596\n",
            "Epoch 3/5\n",
            "1719/1719 [==============================] - 7s 4ms/step - loss: 0.5412 - accuracy: 0.8624 - val_loss: 0.4685 - val_accuracy: 0.8834\n",
            "Epoch 4/5\n",
            "1719/1719 [==============================] - 6s 4ms/step - loss: 0.4591 - accuracy: 0.8771 - val_loss: 0.4104 - val_accuracy: 0.8940\n",
            "Epoch 5/5\n",
            "1719/1719 [==============================] - 6s 4ms/step - loss: 0.4142 - accuracy: 0.8869 - val_loss: 0.3758 - val_accuracy: 0.9006\n"
          ]
        }
      ]
    },
    {
      "cell_type": "markdown",
      "metadata": {
        "id": "wdphkBRoyT2s"
      },
      "source": [
        "Now look at what happens if we try to use the ReLU activation function instead:"
      ]
    },
    {
      "cell_type": "code",
      "metadata": {
        "id": "szqns6OGyT2s"
      },
      "source": [
        "np.random.seed(42)\n",
        "tf.random.set_seed(42)"
      ],
      "execution_count": 15,
      "outputs": []
    },
    {
      "cell_type": "code",
      "metadata": {
        "id": "Zu5g45C5yT2s"
      },
      "source": [
        "model = keras.models.Sequential()\n",
        "model.add(keras.layers.Flatten(input_shape=[28, 28]))\n",
        "\n",
        "model.add(keras.layers.Dense(300, activation=\"relu\", kernel_initializer=\"he_normal\"))\n",
        "\n",
        "for layer in range(99):\n",
        "    model.add(keras.layers.Dense(100, activation=\"relu\", kernel_initializer=\"he_normal\"))\n",
        "\n",
        "model.add(keras.layers.Dense(10, activation=\"softmax\"))"
      ],
      "execution_count": 23,
      "outputs": []
    },
    {
      "cell_type": "code",
      "metadata": {
        "id": "b8ziJs2PyT2s"
      },
      "source": [
        "model.compile(loss=\"sparse_categorical_crossentropy\",\n",
        "              optimizer=keras.optimizers.SGD(learning_rate=1e-3),\n",
        "              metrics=[\"accuracy\"])"
      ],
      "execution_count": 24,
      "outputs": []
    },
    {
      "cell_type": "code",
      "metadata": {
        "id": "1ATK0oSHyT2s",
        "colab": {
          "base_uri": "https://localhost:8080/"
        },
        "outputId": "beaab0c5-6dbb-4657-b4aa-02e2550094c2"
      },
      "source": [
        "history = model.fit(X_train, y_train, epochs=5,\n",
        "                    validation_data=(X_valid, y_valid))"
      ],
      "execution_count": 51,
      "outputs": [
        {
          "output_type": "stream",
          "name": "stdout",
          "text": [
            "Epoch 1/5\n",
            "1719/1719 [==============================] - 17s 9ms/step - loss: 5.8434 - accuracy: 0.4319 - val_loss: 2.5594 - val_accuracy: 0.4500\n",
            "Epoch 2/5\n",
            "1719/1719 [==============================] - 16s 9ms/step - loss: 2.4703 - accuracy: 0.4685 - val_loss: 2.3827 - val_accuracy: 0.4844\n",
            "Epoch 3/5\n",
            "1719/1719 [==============================] - 16s 9ms/step - loss: 2.3379 - accuracy: 0.4922 - val_loss: 2.2692 - val_accuracy: 0.5158\n",
            "Epoch 4/5\n",
            "1719/1719 [==============================] - 16s 10ms/step - loss: 2.2382 - accuracy: 0.5121 - val_loss: 2.1831 - val_accuracy: 0.5260\n",
            "Epoch 5/5\n",
            "1719/1719 [==============================] - 16s 9ms/step - loss: 2.1656 - accuracy: 0.5244 - val_loss: 2.1251 - val_accuracy: 0.5418\n"
          ]
        }
      ]
    },
    {
      "cell_type": "markdown",
      "metadata": {
        "id": "Zsa-9WY5yT2t"
      },
      "source": [
        "Not great at all, we suffered from the vanishing/exploding gradients problem."
      ]
    },
    {
      "cell_type": "markdown",
      "metadata": {
        "id": "NODlyFfnyT2t"
      },
      "source": [
        "# Batch Normalization"
      ]
    },
    {
      "cell_type": "code",
      "metadata": {
        "id": "IANuTmvzyT2t"
      },
      "source": [
        "model = keras.models.Sequential([\n",
        "    keras.layers.Flatten(input_shape=[28, 28]),\n",
        "    keras.layers.BatchNormalization(),\n",
        "    keras.layers.Dense(300, activation=\"relu\"),\n",
        "    keras.layers.BatchNormalization(),\n",
        "    keras.layers.Dense(100, activation=\"relu\"),\n",
        "    keras.layers.BatchNormalization(),\n",
        "    keras.layers.Dense(10, activation=\"softmax\")\n",
        "])"
      ],
      "execution_count": 26,
      "outputs": []
    },
    {
      "cell_type": "code",
      "metadata": {
        "id": "jpkrSpmOyT2t",
        "colab": {
          "base_uri": "https://localhost:8080/"
        },
        "outputId": "7937dd7b-3f06-4516-9ae8-17a6a5e239b8"
      },
      "source": [
        "model.summary()"
      ],
      "execution_count": 27,
      "outputs": [
        {
          "output_type": "stream",
          "name": "stdout",
          "text": [
            "Model: \"sequential_2\"\n",
            "_________________________________________________________________\n",
            " Layer (type)                Output Shape              Param #   \n",
            "=================================================================\n",
            " flatten_2 (Flatten)         (None, 784)               0         \n",
            "                                                                 \n",
            " batch_normalization (BatchN  (None, 784)              3136      \n",
            " ormalization)                                                   \n",
            "                                                                 \n",
            " dense_105 (Dense)           (None, 300)               235500    \n",
            "                                                                 \n",
            " batch_normalization_1 (Batc  (None, 300)              1200      \n",
            " hNormalization)                                                 \n",
            "                                                                 \n",
            " dense_106 (Dense)           (None, 100)               30100     \n",
            "                                                                 \n",
            " batch_normalization_2 (Batc  (None, 100)              400       \n",
            " hNormalization)                                                 \n",
            "                                                                 \n",
            " dense_107 (Dense)           (None, 10)                1010      \n",
            "                                                                 \n",
            "=================================================================\n",
            "Total params: 271,346\n",
            "Trainable params: 268,978\n",
            "Non-trainable params: 2,368\n",
            "_________________________________________________________________\n"
          ]
        }
      ]
    },
    {
      "cell_type": "code",
      "metadata": {
        "id": "SeHquM9ByT2t",
        "colab": {
          "base_uri": "https://localhost:8080/"
        },
        "outputId": "6544654c-f306-40fe-aac5-6e8e3402ce6d"
      },
      "source": [
        "bn1 = model.layers[1]\n",
        "[(var.name, var.trainable) for var in bn1.variables]"
      ],
      "execution_count": 28,
      "outputs": [
        {
          "output_type": "execute_result",
          "data": {
            "text/plain": [
              "[('batch_normalization/gamma:0', True),\n",
              " ('batch_normalization/beta:0', True),\n",
              " ('batch_normalization/moving_mean:0', False),\n",
              " ('batch_normalization/moving_variance:0', False)]"
            ]
          },
          "metadata": {},
          "execution_count": 28
        }
      ]
    },
    {
      "cell_type": "code",
      "metadata": {
        "id": "nzC0HW2byT2u"
      },
      "source": [
        "#bn1.updates #deprecated"
      ],
      "execution_count": 29,
      "outputs": []
    },
    {
      "cell_type": "code",
      "metadata": {
        "id": "wsaT9GAeyT2u"
      },
      "source": [
        "model.compile(loss=\"sparse_categorical_crossentropy\",\n",
        "              optimizer=keras.optimizers.SGD(learning_rate=1e-3),\n",
        "              metrics=[\"accuracy\"])"
      ],
      "execution_count": 30,
      "outputs": []
    },
    {
      "cell_type": "code",
      "metadata": {
        "id": "71G_x6M7yT2u",
        "colab": {
          "base_uri": "https://localhost:8080/"
        },
        "outputId": "28bfc286-6781-45d7-c1fb-1d9d73c59159"
      },
      "source": [
        "history = model.fit(X_train, y_train, epochs=5,\n",
        "                    validation_data=(X_valid, y_valid))"
      ],
      "execution_count": 31,
      "outputs": [
        {
          "output_type": "stream",
          "name": "stdout",
          "text": [
            "Epoch 1/5\n",
            "1719/1719 [==============================] - 12s 6ms/step - loss: 0.8472 - accuracy: 0.7403 - val_loss: 0.4485 - val_accuracy: 0.8752\n",
            "Epoch 2/5\n",
            "1719/1719 [==============================] - 10s 6ms/step - loss: 0.4290 - accuracy: 0.8736 - val_loss: 0.3324 - val_accuracy: 0.9058\n",
            "Epoch 3/5\n",
            "1719/1719 [==============================] - 10s 6ms/step - loss: 0.3513 - accuracy: 0.8983 - val_loss: 0.2847 - val_accuracy: 0.9176\n",
            "Epoch 4/5\n",
            "1719/1719 [==============================] - 10s 6ms/step - loss: 0.3076 - accuracy: 0.9106 - val_loss: 0.2576 - val_accuracy: 0.9252\n",
            "Epoch 5/5\n",
            "1719/1719 [==============================] - 10s 6ms/step - loss: 0.2788 - accuracy: 0.9177 - val_loss: 0.2331 - val_accuracy: 0.9346\n"
          ]
        }
      ]
    },
    {
      "cell_type": "markdown",
      "metadata": {
        "id": "MVtHTRXPyT2u"
      },
      "source": [
        "Sometimes applying BN before the activation function works better (there's a debate on this topic). Moreover, the layer before a `BatchNormalization` layer does not need to have bias terms, since the `BatchNormalization` layer some as well, it would be a waste of parameters, so you can set `use_bias=False` when creating those layers:"
      ]
    },
    {
      "cell_type": "code",
      "metadata": {
        "id": "AOHLeX3gyT2v"
      },
      "source": [
        "model = keras.models.Sequential([\n",
        "    keras.layers.Flatten(input_shape=[28, 28]),\n",
        "    keras.layers.BatchNormalization(),\n",
        "    keras.layers.Dense(300, use_bias=False),\n",
        "    keras.layers.BatchNormalization(),\n",
        "    keras.layers.Activation(\"relu\"),\n",
        "    keras.layers.Dense(100, use_bias=False),\n",
        "    keras.layers.BatchNormalization(),\n",
        "    keras.layers.Activation(\"relu\"),\n",
        "    keras.layers.Dense(10, activation=\"softmax\")\n",
        "])"
      ],
      "execution_count": 32,
      "outputs": []
    },
    {
      "cell_type": "code",
      "metadata": {
        "id": "xMcbKZ0OyT2v"
      },
      "source": [
        "model.compile(loss=\"sparse_categorical_crossentropy\",\n",
        "              optimizer=keras.optimizers.SGD(learning_rate=1e-3),\n",
        "              metrics=[\"accuracy\"])"
      ],
      "execution_count": 33,
      "outputs": []
    },
    {
      "cell_type": "code",
      "metadata": {
        "id": "gGco3TNkyT2v",
        "colab": {
          "base_uri": "https://localhost:8080/"
        },
        "outputId": "678df681-83cf-4d04-f497-55bceddcf739"
      },
      "source": [
        "history = model.fit(X_train, y_train, epochs=5,\n",
        "                    validation_data=(X_valid, y_valid))"
      ],
      "execution_count": 34,
      "outputs": [
        {
          "output_type": "stream",
          "name": "stdout",
          "text": [
            "Epoch 1/5\n",
            "1719/1719 [==============================] - 12s 7ms/step - loss: 1.1931 - accuracy: 0.6554 - val_loss: 0.6642 - val_accuracy: 0.8400\n",
            "Epoch 2/5\n",
            "1719/1719 [==============================] - 12s 7ms/step - loss: 0.6035 - accuracy: 0.8524 - val_loss: 0.4632 - val_accuracy: 0.8850\n",
            "Epoch 3/5\n",
            "1719/1719 [==============================] - 10s 6ms/step - loss: 0.4726 - accuracy: 0.8815 - val_loss: 0.3784 - val_accuracy: 0.9038\n",
            "Epoch 4/5\n",
            "1719/1719 [==============================] - 10s 6ms/step - loss: 0.4051 - accuracy: 0.8951 - val_loss: 0.3328 - val_accuracy: 0.9120\n",
            "Epoch 5/5\n",
            "1719/1719 [==============================] - 11s 6ms/step - loss: 0.3598 - accuracy: 0.9053 - val_loss: 0.2975 - val_accuracy: 0.9188\n"
          ]
        }
      ]
    },
    {
      "cell_type": "markdown",
      "metadata": {
        "id": "gZcjpY7TyT2z"
      },
      "source": [
        "# Faster Optimizers"
      ]
    },
    {
      "cell_type": "markdown",
      "metadata": {
        "id": "QzvjID6IyT20"
      },
      "source": [
        "## Momentum optimization"
      ]
    },
    {
      "cell_type": "code",
      "metadata": {
        "id": "W_8slx2ByT20"
      },
      "source": [
        "#CODE for points = 1\n",
        "# initialize lr and momentum to typical values\n",
        "\n",
        "optimizer = keras.optimizers.SGD(learning_rate=0.01, momentum=0.9)"
      ],
      "execution_count": 35,
      "outputs": []
    },
    {
      "cell_type": "markdown",
      "metadata": {
        "id": "QTF0A3-oyT20"
      },
      "source": [
        "## Nesterov Accelerated Gradient"
      ]
    },
    {
      "cell_type": "code",
      "metadata": {
        "id": "piqxQeEwyT21"
      },
      "source": [
        "#CODE for points = 1\n",
        "# initialize lr and momentum to typical values. Set nesterov so that it is used\n",
        "\n",
        "optimizer = keras.optimizers.SGD(learning_rate=0.01, momentum=0.9, nesterov=True)"
      ],
      "execution_count": 36,
      "outputs": []
    },
    {
      "cell_type": "markdown",
      "metadata": {
        "id": "G7VG-ueuyT2-"
      },
      "source": [
        "# Avoiding Overfitting Through Regularization"
      ]
    },
    {
      "cell_type": "markdown",
      "metadata": {
        "id": "to1x3hcIyT2-"
      },
      "source": [
        "## $\\ell_1$ and $\\ell_2$ regularization"
      ]
    },
    {
      "cell_type": "code",
      "metadata": {
        "id": "saUIENUUyT2-"
      },
      "source": [
        "#CODE for points = 1\n",
        "\n",
        "# Use syntax for assigning l2 regularization with a factor 0.01 as given here - https://keras.io/api/layers/regularizers/\n",
        "\n",
        "from tensorflow.keras import layers\n",
        "from tensorflow.keras import regularizers\n",
        "\n",
        "layer = keras.layers.Dense(100, activation=\"elu\",\n",
        "                           kernel_initializer=\"he_normal\",\n",
        "                           kernel_regularizer=regularizers.l1_l2(l2=0.01))"
      ],
      "execution_count": 41,
      "outputs": []
    },
    {
      "cell_type": "code",
      "metadata": {
        "id": "EBqxkuQCyT2-",
        "colab": {
          "base_uri": "https://localhost:8080/"
        },
        "outputId": "05f64a33-9e21-473a-c8a7-cb7d944b114f"
      },
      "source": [
        "#CODE for points = 1\n",
        "\n",
        "# Use syntax for assigning l2 regularization with a factor 0.01 as given here - https://keras.io/api/layers/regularizers/\n",
        "# nadam optimizer\n",
        "\n",
        "model = keras.models.Sequential([\n",
        "    keras.layers.Flatten(input_shape=[28, 28]),\n",
        "    keras.layers.Dense(300, activation=\"elu\",\n",
        "                       kernel_initializer=\"he_normal\",\n",
        "                       kernel_regularizer=regularizers.l1_l2(l2=0.01)),\n",
        "    keras.layers.Dense(100, activation=\"elu\",\n",
        "                       kernel_initializer=\"he_normal\",\n",
        "                       kernel_regularizer=regularizers.l1_l2(l2=0.01)),\n",
        "    keras.layers.Dense(10, activation=\"softmax\",\n",
        "                       kernel_regularizer=regularizers.l1_l2(l2=0.01))\n",
        "])\n",
        "model.compile(loss=\"sparse_categorical_crossentropy\", optimizer=\"nadam\", metrics=[\"accuracy\"])\n",
        "n_epochs = 2\n",
        "history = model.fit(X_train, y_train, epochs=n_epochs,\n",
        "                    validation_data=(X_valid, y_valid))"
      ],
      "execution_count": 53,
      "outputs": [
        {
          "output_type": "stream",
          "name": "stdout",
          "text": [
            "Epoch 1/2\n",
            "1719/1719 [==============================] - 17s 9ms/step - loss: 5.8263 - accuracy: 0.5172 - val_loss: 2.5381 - val_accuracy: 0.6032\n",
            "Epoch 2/2\n",
            "1719/1719 [==============================] - 16s 9ms/step - loss: 2.4284 - accuracy: 0.6259 - val_loss: 2.3018 - val_accuracy: 0.6660\n"
          ]
        }
      ]
    },
    {
      "cell_type": "code",
      "metadata": {
        "id": "IyzDPdgbyT2-"
      },
      "source": [
        "#CODE for points = 1\n",
        "\n",
        "# Use syntax for assigning l2 regularization with a factor 0.01 as given here - https://keras.io/api/layers/regularizers/\n",
        "\n",
        "from functools import partial\n",
        "\n",
        "RegularizedDense = partial(keras.layers.Dense,\n",
        "                           activation=\"elu\",\n",
        "                           kernel_initializer=\"he_normal\",\n",
        "                           kernel_regularizer=regularizers.l1_l2(l2=0.01))"
      ],
      "execution_count": 54,
      "outputs": []
    },
    {
      "cell_type": "code",
      "metadata": {
        "id": "oW0OIFKABTNZ",
        "colab": {
          "base_uri": "https://localhost:8080/"
        },
        "outputId": "479e6d05-9816-4a67-e08e-0b5bee4cf465"
      },
      "source": [
        "#CODE for points = 1\n",
        "\n",
        "# activation function initialized as softmax\n",
        "# nadam optimizer\n",
        "\n",
        "\n",
        "model = keras.models.Sequential([\n",
        "    keras.layers.Flatten(input_shape=[28, 28]),\n",
        "    RegularizedDense(300),\n",
        "    RegularizedDense(100),\n",
        "    RegularizedDense(10, activation=\"softmax\")\n",
        "])\n",
        "model.compile(loss=\"sparse_categorical_crossentropy\", optimizer=\"nadam\", metrics=[\"accuracy\"])\n",
        "n_epochs = 2\n",
        "history = model.fit(X_train, y_train, epochs=n_epochs,\n",
        "                    validation_data=(X_valid, y_valid))\n"
      ],
      "execution_count": 56,
      "outputs": [
        {
          "output_type": "stream",
          "name": "stdout",
          "text": [
            "Epoch 1/2\n",
            "1719/1719 [==============================] - 17s 9ms/step - loss: 5.8822 - accuracy: 0.5202 - val_loss: 2.5309 - val_accuracy: 0.6172\n",
            "Epoch 2/2\n",
            "1719/1719 [==============================] - 16s 9ms/step - loss: 2.4481 - accuracy: 0.6194 - val_loss: 2.3396 - val_accuracy: 0.6528\n"
          ]
        }
      ]
    }
  ]
}