{
 "cells": [
  {
   "cell_type": "code",
   "execution_count": 1,
   "metadata": {},
   "outputs": [],
   "source": [
    "# importing some libraries\n",
    "import numpy as np # provides math library\n",
    "import pandas as pd # data processing library, useful for CSV file reading\n",
    "import seaborn as sns # useful for data viz\n",
    "import matplotlib.pyplot as plt # useful for data viz\n",
    "%matplotlib inline"
   ]
  },
  {
   "cell_type": "code",
   "execution_count": 2,
   "metadata": {},
   "outputs": [],
   "source": [
    "# importing some more libraries - specific to NN\n",
    "import tensorflow as tf\n",
    "from tensorflow import keras\n",
    "from tensorflow.keras import layers\n",
    "from tensorflow.keras import Model\n",
    "# from keras.layers import Dense\n",
    "# from keras.callbacks import EarlyStopping, ModelCheckpoint # maybe unneeded?\n",
    "# from keras.wrappers.scikit_learn import KerasClassifier\n",
    "# from sklearn.model_selection import train_test_split, cross_val_score, RandomizedSearchCV\n",
    "# gridsearch is for hyperparameter optimization"
   ]
  },
  {
   "cell_type": "code",
   "execution_count": 3,
   "metadata": {},
   "outputs": [],
   "source": [
    "# df = tf.keras.datasets.mnist\n",
    "\n",
    "(x_train, y_train), (x_test, y_test) = keras.datasets.mnist.load_data()\n",
    "x_train = x_train.astype(\"float32\") / 255\n",
    "x_test = x_test.astype(\"float32\") / 255"
   ]
  },
  {
   "cell_type": "code",
   "execution_count": 4,
   "metadata": {},
   "outputs": [
    {
     "data": {
      "text/plain": [
       "(60000, 28, 28)"
      ]
     },
     "execution_count": 4,
     "metadata": {},
     "output_type": "execute_result"
    }
   ],
   "source": [
    "x_train.shape"
   ]
  },
  {
   "cell_type": "code",
   "execution_count": 5,
   "metadata": {},
   "outputs": [
    {
     "data": {
      "text/plain": [
       "(60000,)"
      ]
     },
     "execution_count": 5,
     "metadata": {},
     "output_type": "execute_result"
    }
   ],
   "source": [
    "y_train.shape"
   ]
  },
  {
   "cell_type": "code",
   "execution_count": 6,
   "metadata": {
    "scrolled": true
   },
   "outputs": [],
   "source": [
    "# x_train are attributes - the images\n",
    "# y_train are the numerical values associated with them\n",
    "# train is data for model training\n",
    "# test is data for eval. model performance\n",
    "y_train = keras.utils.to_categorical(y_train, 10)\n",
    "y_test = keras.utils.to_categorical(y_test, 10)"
   ]
  },
  {
   "cell_type": "code",
   "execution_count": 7,
   "metadata": {},
   "outputs": [
    {
     "data": {
      "text/plain": [
       "(10000, 28, 28)"
      ]
     },
     "execution_count": 7,
     "metadata": {},
     "output_type": "execute_result"
    }
   ],
   "source": [
    "# 10,000 images are made of images that are 28*28 pixels\n",
    "x_test.shape"
   ]
  },
  {
   "cell_type": "code",
   "execution_count": 8,
   "metadata": {},
   "outputs": [
    {
     "data": {
      "text/plain": [
       "(60000, 28, 28)"
      ]
     },
     "execution_count": 8,
     "metadata": {},
     "output_type": "execute_result"
    }
   ],
   "source": [
    "# 60,000 images are made of images that are 28*28 pixels\n",
    "x_train.shape"
   ]
  },
  {
   "cell_type": "markdown",
   "metadata": {},
   "source": [
    "data structure = a tensor. tensors have 3 main attributes\n",
    "1. number of axes (rank): a tensor containing a single number called scalar\n",
    "array of #s is a vector, array of arrays is a matrix\n",
    "array of matrices is a tensor\n",
    "\n",
    "2. shape: tuple of integers describing dimensions the tensor has along each axis\n",
    "\n",
    "3. data type: indic8s type of data that contains the tensor\n",
    "can be uint8, float32, float64, etc. in Numpy library this is called dtype"
   ]
  },
  {
   "cell_type": "markdown",
   "metadata": {},
   "source": [
    "### Time to preprocess our data!"
   ]
  },
  {
   "cell_type": "code",
   "execution_count": 9,
   "metadata": {},
   "outputs": [],
   "source": [
    "# aka preparing it such that it can be used in a NN training\n",
    "# what we want to adjust is x values - features used to make predictions\n",
    "# y is what we try to predict\n",
    "# 28 * 28 = approx 255\n",
    "# there are 255 values per pixel\n",
    "# by dividing we make max value 1\n",
    "# each color is somewhere between 0 and 256\n",
    "\n",
    "x_train, x_test = x_train/255, x_test/255"
   ]
  },
  {
   "cell_type": "code",
   "execution_count": 10,
   "metadata": {},
   "outputs": [],
   "source": [
    "x_train = x_train.reshape(60000, 784)\n",
    "x_test = x_test.reshape(10000, 784)"
   ]
  },
  {
   "cell_type": "code",
   "execution_count": 11,
   "metadata": {},
   "outputs": [
    {
     "name": "stdout",
     "output_type": "stream",
     "text": [
      "(60000, 784) (60000, 10) (10000, 784) (10000, 10)\n"
     ]
    }
   ],
   "source": [
    "print(x_train.shape, y_train.shape, x_test.shape, y_test.shape)"
   ]
  },
  {
   "cell_type": "code",
   "execution_count": 12,
   "metadata": {
    "scrolled": false
   },
   "outputs": [
    {
     "data": {
      "text/plain": [
       "array([[0., 0., 0., ..., 0., 0., 0.],\n",
       "       [0., 0., 0., ..., 0., 0., 0.],\n",
       "       [0., 0., 0., ..., 0., 0., 0.],\n",
       "       [0., 0., 0., ..., 0., 0., 0.],\n",
       "       [0., 0., 0., ..., 0., 0., 0.]], dtype=float32)"
      ]
     },
     "execution_count": 12,
     "metadata": {},
     "output_type": "execute_result"
    }
   ],
   "source": [
    "x_train[0:5, :]"
   ]
  },
  {
   "cell_type": "code",
   "execution_count": 13,
   "metadata": {},
   "outputs": [
    {
     "data": {
      "text/plain": [
       "array([[0., 0., 0., ..., 0., 0., 0.],\n",
       "       [1., 0., 0., ..., 0., 0., 0.],\n",
       "       [0., 0., 0., ..., 0., 0., 0.],\n",
       "       ...,\n",
       "       [0., 0., 0., ..., 0., 0., 0.],\n",
       "       [0., 0., 0., ..., 0., 0., 0.],\n",
       "       [0., 0., 0., ..., 0., 1., 0.]], dtype=float32)"
      ]
     },
     "execution_count": 13,
     "metadata": {},
     "output_type": "execute_result"
    }
   ],
   "source": [
    "y_train"
   ]
  },
  {
   "cell_type": "markdown",
   "metadata": {},
   "source": [
    "### Building the model"
   ]
  },
  {
   "cell_type": "code",
   "execution_count": 14,
   "metadata": {},
   "outputs": [],
   "source": [
    "model = tf.keras.models.Sequential([\n",
    "    \n",
    "    # \n",
    "    tf.keras.layers.Flatten(input_shape = (28, 28)),\n",
    "    \n",
    "    # second layer has 128 nodes\n",
    "    tf.keras.layers.Dense(128, activation='relu'),\n",
    "    \n",
    "    # dropout layer helps avoid overfitting\n",
    "    # 20% of nodes won't be used, bc not every node checks every piece of data \n",
    "    # at each training iteration\n",
    "    tf.keras.layers.Dropout(0.2),\n",
    "    \n",
    "    # 10 nodes at the last layer\n",
    "    tf.keras.layers.Dense(10, activation='softmax')\n",
    "])"
   ]
  },
  {
   "cell_type": "markdown",
   "metadata": {},
   "source": [
    "Use sigmoid, relu, and softmax as activation functions = 1 point"
   ]
  },
  {
   "cell_type": "code",
   "execution_count": 15,
   "metadata": {},
   "outputs": [],
   "source": [
    "# build model\n",
    "# model = model.Sequential()\n",
    "\n",
    "# model.add(layers.Dense(256), input_shape = [], \n",
    "#           activation = 'relu' #you can use relu, prob use something else\n",
    "#         )\n",
    "\n",
    "# model.add(Dropout(0.15))\n",
    "# model.add(Dense(10))\n",
    "\n",
    "# make exponential learning rate\n",
    "INR = (1 * 10^-3)\n",
    "lr = tf.keras.optimizers.schedules.ExponentialDecay(INR, \n",
    "                                               decay_steps = 100000, \n",
    "                                               decay_rate = 0.95, \n",
    "                                               staircase = False)\n",
    "\n",
    "# define optimizer\n",
    "optimizer = tf.keras.optimizers.Adam(learning_rate = lr)\n",
    "\n",
    "# compile model\n",
    "model.compile(optimizer = optimizer,\n",
    "              loss = 'sparse_categorical_crossentropy',\n",
    "              # categorical loss, we're not performing regression\n",
    "              \n",
    "              metrics = ['accuracy'])\n",
    "              # tells us how to grade how well the model is operating"
   ]
  },
  {
   "cell_type": "code",
   "execution_count": 16,
   "metadata": {},
   "outputs": [],
   "source": [
    "# epoch: specify how many presentations you give from your data into model\n",
    "# presents data into network for each epoch and does it 5x\n",
    "# accuracy increases, loss decreases\n",
    "\n",
    "e_input = layers.Input(shape=(28,28))\n",
    "e_1 = layers.Flatten()(e_input)\n",
    "d_1 = layers.Dense(128, activation='relu')(e_1)\n",
    "output = layers.Dense(10, activation='softmax')(d_1)\n",
    "\n",
    "opt = tf.optimizers.Adam()\n",
    "lss=tf.keras.losses.CategoricalCrossentropy()\n",
    "callback = tf.keras.callbacks.EarlyStopping(monitor='accuracy', patience=2, min_delta=0.01)\n",
    "# early stop stops training if the accuracy isn't more than 2% greater\n",
    "\n",
    "model = Model(inputs=e_input, outputs=output, name='m')\n",
    "model.compile(loss=lss,metrics=['accuracy'], optimizer=opt)"
   ]
  },
  {
   "cell_type": "code",
   "execution_count": 17,
   "metadata": {},
   "outputs": [
    {
     "name": "stdout",
     "output_type": "stream",
     "text": [
      "Epoch 1/10\n",
      "WARNING:tensorflow:Model was constructed with shape (None, 28, 28) for input Tensor(\"input_1:0\", shape=(None, 28, 28), dtype=float32), but it was called on an input with incompatible shape (32, 784).\n",
      "WARNING:tensorflow:Model was constructed with shape (None, 28, 28) for input Tensor(\"input_1:0\", shape=(None, 28, 28), dtype=float32), but it was called on an input with incompatible shape (32, 784).\n",
      "1875/1875 [==============================] - 1s 649us/step - loss: 1.2094 - accuracy: 0.7014\n",
      "Epoch 2/10\n",
      "1875/1875 [==============================] - 1s 638us/step - loss: 0.5055 - accuracy: 0.8690\n",
      "Epoch 3/10\n",
      "1875/1875 [==============================] - 1s 635us/step - loss: 0.3891 - accuracy: 0.8934\n",
      "Epoch 4/10\n",
      "1875/1875 [==============================] - 1s 635us/step - loss: 0.3443 - accuracy: 0.9028\n",
      "Epoch 5/10\n",
      "1875/1875 [==============================] - 1s 635us/step - loss: 0.3200 - accuracy: 0.9085\n",
      "Epoch 6/10\n",
      "1875/1875 [==============================] - 1s 650us/step - loss: 0.3036 - accuracy: 0.9125\n",
      "Epoch 7/10\n",
      "1875/1875 [==============================] - 1s 646us/step - loss: 0.2902 - accuracy: 0.9166\n",
      "Epoch 8/10\n",
      "1875/1875 [==============================] - 1s 644us/step - loss: 0.2792 - accuracy: 0.9190\n",
      "Epoch 9/10\n",
      "1875/1875 [==============================] - 1s 639us/step - loss: 0.2693 - accuracy: 0.9217\n",
      "Epoch 10/10\n",
      "1875/1875 [==============================] - 1s 636us/step - loss: 0.2597 - accuracy: 0.9250\n"
     ]
    },
    {
     "data": {
      "text/plain": [
       "<tensorflow.python.keras.callbacks.History at 0x7fd9e0f51c40>"
      ]
     },
     "execution_count": 17,
     "metadata": {},
     "output_type": "execute_result"
    }
   ],
   "source": [
    "model.fit(x_train, y_train, epochs=10)"
   ]
  },
  {
   "cell_type": "code",
   "execution_count": 18,
   "metadata": {},
   "outputs": [
    {
     "data": {
      "text/plain": [
       "[<matplotlib.lines.Line2D at 0x7fd9d15d1b20>]"
      ]
     },
     "execution_count": 18,
     "metadata": {},
     "output_type": "execute_result"
    },
    {
     "data": {
      "image/png": "[encoded data removed]",
      "text/plain": [
       "<Figure size 432x288 with 1 Axes>"
      ]
     },
     "metadata": {
      "needs_background": "light"
     },
     "output_type": "display_data"
    }
   ],
   "source": [
    "plt.plot(model.history.history['accuracy'])"
   ]
  }
 ],
 "metadata": {
  "kernelspec": {
   "display_name": "Python 3",
   "language": "python",
   "name": "python3"
  },
  "language_info": {
   "codemirror_mode": {
    "name": "ipython",
    "version": 3
   },
   "file_extension": ".py",
   "mimetype": "text/x-python",
   "name": "python",
   "nbconvert_exporter": "python",
   "pygments_lexer": "ipython3",
   "version": "3.8.5"
  }
 },
 "nbformat": 4,
 "nbformat_minor": 4
}
